{
 "cells": [
  {
   "cell_type": "code",
   "execution_count": 2,
   "metadata": {},
   "outputs": [],
   "source": [
    "from data_cleaning import data_processing\n",
    "\n",
    "import pandas as pd"
   ]
  },
  {
   "cell_type": "code",
   "execution_count": 9,
   "metadata": {},
   "outputs": [],
   "source": [
    "import importlib\n",
    "import data_cleaning\n",
    "importlib.reload(data_cleaning)\n",
    "from data_cleaning import data_processing"
   ]
  },
  {
   "cell_type": "code",
   "execution_count": 12,
   "metadata": {},
   "outputs": [
    {
     "name": "stdout",
     "output_type": "stream",
     "text": [
      "date  0.0    88.0\n",
      "0.0    4.0    0.0\n",
      "68.0   0.0  122.0\n",
      "OMA    0.0    0.0\n"
     ]
    },
    {
     "ename": "TypeError",
     "evalue": "'<' not supported between instances of 'str' and 'float'",
     "output_type": "error",
     "traceback": [
      "\u001b[0;31m---------------------------------------------------------------------------\u001b[0m",
      "\u001b[0;31mTypeError\u001b[0m                                 Traceback (most recent call last)",
      "Cell \u001b[0;32mIn[12], line 5\u001b[0m\n\u001b[1;32m      3\u001b[0m processor \u001b[39m=\u001b[39m data_processing(\u001b[39mf\u001b[39m\u001b[39m'\u001b[39m\u001b[39mdata/\u001b[39m\u001b[39m{\u001b[39;00mfile_name\u001b[39m}\u001b[39;00m\u001b[39m.csv\u001b[39m\u001b[39m'\u001b[39m)\n\u001b[1;32m      4\u001b[0m processor\u001b[39m.\u001b[39mdata_cleaning()\n\u001b[0;32m----> 5\u001b[0m x_matrix \u001b[39m=\u001b[39m processor\u001b[39m.\u001b[39;49mparse_x_matrix()\n\u001b[1;32m      6\u001b[0m x_matrix\n",
      "File \u001b[0;32m~/StemGNN_CE290/ce290_data/data_cleaning.py:66\u001b[0m, in \u001b[0;36mdata_processing.parse_x_matrix\u001b[0;34m(self)\u001b[0m\n\u001b[1;32m     64\u001b[0m         \u001b[39mself\u001b[39m\u001b[39m.\u001b[39mx_matrix \u001b[39m=\u001b[39m pd\u001b[39m.\u001b[39mconcat([\u001b[39mself\u001b[39m\u001b[39m.\u001b[39mx_matrix, a])\n\u001b[1;32m     65\u001b[0m         \u001b[39mprint\u001b[39m(\u001b[39mself\u001b[39m\u001b[39m.\u001b[39mx_matrix)\n\u001b[0;32m---> 66\u001b[0m         \u001b[39mself\u001b[39m\u001b[39m.\u001b[39mx_matrix \u001b[39m=\u001b[39m \u001b[39mself\u001b[39;49m\u001b[39m.\u001b[39;49mx_matrix\u001b[39m.\u001b[39;49msort_index(axis\u001b[39m=\u001b[39;49m\u001b[39m0\u001b[39;49m)\n\u001b[1;32m     68\u001b[0m \u001b[39mreturn\u001b[39;00m \u001b[39mself\u001b[39m\u001b[39m.\u001b[39mx_matrix\n",
      "File \u001b[0;32m~/opt/anaconda3/lib/python3.9/site-packages/pandas/util/_decorators.py:311\u001b[0m, in \u001b[0;36mdeprecate_nonkeyword_arguments.<locals>.decorate.<locals>.wrapper\u001b[0;34m(*args, **kwargs)\u001b[0m\n\u001b[1;32m    305\u001b[0m \u001b[39mif\u001b[39;00m \u001b[39mlen\u001b[39m(args) \u001b[39m>\u001b[39m num_allow_args:\n\u001b[1;32m    306\u001b[0m     warnings\u001b[39m.\u001b[39mwarn(\n\u001b[1;32m    307\u001b[0m         msg\u001b[39m.\u001b[39mformat(arguments\u001b[39m=\u001b[39marguments),\n\u001b[1;32m    308\u001b[0m         \u001b[39mFutureWarning\u001b[39;00m,\n\u001b[1;32m    309\u001b[0m         stacklevel\u001b[39m=\u001b[39mstacklevel,\n\u001b[1;32m    310\u001b[0m     )\n\u001b[0;32m--> 311\u001b[0m \u001b[39mreturn\u001b[39;00m func(\u001b[39m*\u001b[39;49margs, \u001b[39m*\u001b[39;49m\u001b[39m*\u001b[39;49mkwargs)\n",
      "File \u001b[0;32m~/opt/anaconda3/lib/python3.9/site-packages/pandas/core/frame.py:6456\u001b[0m, in \u001b[0;36mDataFrame.sort_index\u001b[0;34m(self, axis, level, ascending, inplace, kind, na_position, sort_remaining, ignore_index, key)\u001b[0m\n\u001b[1;32m   6354\u001b[0m \u001b[39m@deprecate_nonkeyword_arguments\u001b[39m(version\u001b[39m=\u001b[39m\u001b[39mNone\u001b[39;00m, allowed_args\u001b[39m=\u001b[39m[\u001b[39m\"\u001b[39m\u001b[39mself\u001b[39m\u001b[39m\"\u001b[39m])\n\u001b[1;32m   6355\u001b[0m \u001b[39mdef\u001b[39;00m \u001b[39msort_index\u001b[39m(\n\u001b[1;32m   6356\u001b[0m     \u001b[39mself\u001b[39m,\n\u001b[0;32m   (...)\u001b[0m\n\u001b[1;32m   6365\u001b[0m     key: IndexKeyFunc \u001b[39m=\u001b[39m \u001b[39mNone\u001b[39;00m,\n\u001b[1;32m   6366\u001b[0m ):\n\u001b[1;32m   6367\u001b[0m     \u001b[39m\"\"\"\u001b[39;00m\n\u001b[1;32m   6368\u001b[0m \u001b[39m    Sort object by labels (along an axis).\u001b[39;00m\n\u001b[1;32m   6369\u001b[0m \n\u001b[0;32m   (...)\u001b[0m\n\u001b[1;32m   6454\u001b[0m \u001b[39m    d  4\u001b[39;00m\n\u001b[1;32m   6455\u001b[0m \u001b[39m    \"\"\"\u001b[39;00m\n\u001b[0;32m-> 6456\u001b[0m     \u001b[39mreturn\u001b[39;00m \u001b[39msuper\u001b[39;49m()\u001b[39m.\u001b[39;49msort_index(\n\u001b[1;32m   6457\u001b[0m         axis,\n\u001b[1;32m   6458\u001b[0m         level,\n\u001b[1;32m   6459\u001b[0m         ascending,\n\u001b[1;32m   6460\u001b[0m         inplace,\n\u001b[1;32m   6461\u001b[0m         kind,\n\u001b[1;32m   6462\u001b[0m         na_position,\n\u001b[1;32m   6463\u001b[0m         sort_remaining,\n\u001b[1;32m   6464\u001b[0m         ignore_index,\n\u001b[1;32m   6465\u001b[0m         key,\n\u001b[1;32m   6466\u001b[0m     )\n",
      "File \u001b[0;32m~/opt/anaconda3/lib/python3.9/site-packages/pandas/core/generic.py:4685\u001b[0m, in \u001b[0;36mNDFrame.sort_index\u001b[0;34m(self, axis, level, ascending, inplace, kind, na_position, sort_remaining, ignore_index, key)\u001b[0m\n\u001b[1;32m   4681\u001b[0m ascending \u001b[39m=\u001b[39m validate_ascending(ascending)\n\u001b[1;32m   4683\u001b[0m target \u001b[39m=\u001b[39m \u001b[39mself\u001b[39m\u001b[39m.\u001b[39m_get_axis(axis)\n\u001b[0;32m-> 4685\u001b[0m indexer \u001b[39m=\u001b[39m get_indexer_indexer(\n\u001b[1;32m   4686\u001b[0m     target, level, ascending, kind, na_position, sort_remaining, key\n\u001b[1;32m   4687\u001b[0m )\n\u001b[1;32m   4689\u001b[0m \u001b[39mif\u001b[39;00m indexer \u001b[39mis\u001b[39;00m \u001b[39mNone\u001b[39;00m:\n\u001b[1;32m   4690\u001b[0m     \u001b[39mif\u001b[39;00m inplace:\n",
      "File \u001b[0;32m~/opt/anaconda3/lib/python3.9/site-packages/pandas/core/sorting.py:94\u001b[0m, in \u001b[0;36mget_indexer_indexer\u001b[0;34m(target, level, ascending, kind, na_position, sort_remaining, key)\u001b[0m\n\u001b[1;32m     89\u001b[0m     \u001b[39mif\u001b[39;00m (ascending \u001b[39mand\u001b[39;00m target\u001b[39m.\u001b[39mis_monotonic_increasing) \u001b[39mor\u001b[39;00m (\n\u001b[1;32m     90\u001b[0m         \u001b[39mnot\u001b[39;00m ascending \u001b[39mand\u001b[39;00m target\u001b[39m.\u001b[39mis_monotonic_decreasing\n\u001b[1;32m     91\u001b[0m     ):\n\u001b[1;32m     92\u001b[0m         \u001b[39mreturn\u001b[39;00m \u001b[39mNone\u001b[39;00m\n\u001b[0;32m---> 94\u001b[0m     indexer \u001b[39m=\u001b[39m nargsort(\n\u001b[1;32m     95\u001b[0m         target, kind\u001b[39m=\u001b[39;49mkind, ascending\u001b[39m=\u001b[39;49mascending, na_position\u001b[39m=\u001b[39;49mna_position\n\u001b[1;32m     96\u001b[0m     )\n\u001b[1;32m     97\u001b[0m \u001b[39mreturn\u001b[39;00m indexer\n",
      "File \u001b[0;32m~/opt/anaconda3/lib/python3.9/site-packages/pandas/core/sorting.py:417\u001b[0m, in \u001b[0;36mnargsort\u001b[0;34m(items, kind, ascending, na_position, key, mask)\u001b[0m\n\u001b[1;32m    415\u001b[0m     non_nans \u001b[39m=\u001b[39m non_nans[::\u001b[39m-\u001b[39m\u001b[39m1\u001b[39m]\n\u001b[1;32m    416\u001b[0m     non_nan_idx \u001b[39m=\u001b[39m non_nan_idx[::\u001b[39m-\u001b[39m\u001b[39m1\u001b[39m]\n\u001b[0;32m--> 417\u001b[0m indexer \u001b[39m=\u001b[39m non_nan_idx[non_nans\u001b[39m.\u001b[39;49margsort(kind\u001b[39m=\u001b[39;49mkind)]\n\u001b[1;32m    418\u001b[0m \u001b[39mif\u001b[39;00m \u001b[39mnot\u001b[39;00m ascending:\n\u001b[1;32m    419\u001b[0m     indexer \u001b[39m=\u001b[39m indexer[::\u001b[39m-\u001b[39m\u001b[39m1\u001b[39m]\n",
      "\u001b[0;31mTypeError\u001b[0m: '<' not supported between instances of 'str' and 'float'"
     ]
    }
   ],
   "source": [
    "file_name = 'may2020'\n",
    "\n",
    "processor = data_processing(f'data/{file_name}.csv')\n",
    "processor.data_cleaning()\n",
    "x_matrix = processor.parse_x_matrix()\n",
    "x_matrix\n",
    "# x_matrix.to_csv(f'x_matrix/{file_name}.csv', index=False)"
   ]
  },
  {
   "cell_type": "code",
   "execution_count": 7,
   "metadata": {},
   "outputs": [],
   "source": [
    "def adjacancy(filename):\n",
    "    # 'ce290_data/data/mar2020.csv'\n",
    "    df = data_processing(filename)\n",
    "    df.data_cleaning()\n",
    "    df = df.df\n",
    "\n",
    "    df2 = df.groupby(['departure','arrival']).sum('number_of_flights').reset_index()\n",
    "    df2.columns = ['departure', 'arrival', 'weight']\n",
    "\n",
    "    g = nx.from_pandas_edgelist(df2, source='departure', target='arrival', edge_attr='weight' )\n",
    "    a = nx.adjacency_matrix(g)\n",
    "    # print(a.todense())\n",
    "    return a.todense()"
   ]
  },
  {
   "cell_type": "code",
   "execution_count": 8,
   "metadata": {},
   "outputs": [],
   "source": [
    "import networkx as nx"
   ]
  },
  {
   "cell_type": "code",
   "execution_count": 11,
   "metadata": {},
   "outputs": [
    {
     "name": "stderr",
     "output_type": "stream",
     "text": [
      "/Users/Albert/StemGNN_CE290/ce290_data/data_cleaning.py:20: DtypeWarning: Columns (3,4,5,6,7,8,9,10,11,12,13,14,15,16) have mixed types. Specify dtype option on import or set low_memory=False.\n",
      "  df = pd.read_csv(f'./{self.path}').reset_index(drop=True).iloc[5:-5, [0,1,2,3,12,15,16]]\n",
      "/var/folders/zt/r0cp56bx0xn7645kcytd7mzr0000gn/T/ipykernel_9662/439583127.py:11: FutureWarning: adjacency_matrix will return a scipy.sparse array instead of a matrix in Networkx 3.0.\n",
      "  a = nx.adjacency_matrix(g)\n"
     ]
    }
   ],
   "source": [
    "A = adjacancy('data/mar2020.csv')"
   ]
  },
  {
   "cell_type": "code",
   "execution_count": 24,
   "metadata": {},
   "outputs": [
    {
     "name": "stdout",
     "output_type": "stream",
     "text": [
      "None\n"
     ]
    }
   ],
   "source": [
    "G = nx.Graph(A)\n",
    "eiv = nx.laplacian_spectrum(G)\n"
   ]
  },
  {
   "cell_type": "code",
   "execution_count": 27,
   "metadata": {},
   "outputs": [
    {
     "data": {
      "text/plain": [
       "array([-8.04804279e-12,  5.06436733e+00,  3.13566401e+01,  1.90032971e+02,\n",
       "        2.42485710e+02,  2.71616588e+02,  3.60028885e+02,  4.84288191e+02,\n",
       "        4.98557171e+02,  5.47277834e+02,  7.16839516e+02,  1.02592806e+03,\n",
       "        1.08397612e+03,  1.13404694e+03,  1.19815208e+03,  1.23055034e+03,\n",
       "        1.31093747e+03,  1.42248155e+03,  1.43840627e+03,  1.49864788e+03,\n",
       "        1.68636543e+03,  1.71855337e+03,  1.81197387e+03,  1.82296882e+03,\n",
       "        1.88500123e+03,  2.01307103e+03,  2.18064000e+03,  2.29458858e+03,\n",
       "        2.42036345e+03,  2.63896143e+03,  2.77479172e+03,  2.80746672e+03,\n",
       "        2.88997658e+03,  3.07471645e+03,  3.12634285e+03,  3.20701052e+03,\n",
       "        3.36954768e+03,  3.47647950e+03,  3.55226551e+03,  3.71105020e+03,\n",
       "        3.75764328e+03,  3.80734680e+03,  4.06807636e+03,  4.17807219e+03,\n",
       "        4.27160335e+03,  4.37056083e+03,  4.55535343e+03,  4.65060958e+03,\n",
       "        4.77527956e+03,  4.99652025e+03,  5.21294064e+03,  5.86288353e+03,\n",
       "        6.28966489e+03,  6.40448133e+03,  6.69428169e+03,  6.73835774e+03,\n",
       "        6.84581929e+03,  6.88491931e+03,  6.97949009e+03,  7.53575069e+03,\n",
       "        7.84411738e+03,  7.95217756e+03,  8.21835567e+03,  8.32150275e+03,\n",
       "        8.45707154e+03,  8.93460751e+03,  9.18824892e+03,  1.01684072e+04,\n",
       "        1.05580177e+04,  1.07893456e+04,  1.12616002e+04,  1.17391315e+04,\n",
       "        1.20744309e+04,  1.37343750e+04,  1.58415245e+04,  1.68017843e+04,\n",
       "        1.75248376e+04])"
      ]
     },
     "execution_count": 27,
     "metadata": {},
     "output_type": "execute_result"
    }
   ],
   "source": [
    "import numpy as np\n",
    "np.sort(eiv)"
   ]
  },
  {
   "cell_type": "code",
   "execution_count": 10,
   "metadata": {},
   "outputs": [],
   "source": [
    "import pandas as pd\n",
    "import os \n",
    "target = pd.read_csv('x_matrix/jul2020.csv')"
   ]
  },
  {
   "cell_type": "code",
   "execution_count": 11,
   "metadata": {},
   "outputs": [],
   "source": [
    "for i in os.listdir('x_matrix/')[1:]:\n",
    "    target2 = pd.read_csv(f'x_matrix/{i}')\n",
    "    target = pd.concat([target, target2],axis=1)\n"
   ]
  },
  {
   "cell_type": "code",
   "execution_count": 14,
   "metadata": {},
   "outputs": [],
   "source": [
    "target = target.sort_index(axis=1)\n",
    "target.to_csv('2020.csv')"
   ]
  },
  {
   "cell_type": "code",
   "execution_count": null,
   "metadata": {},
   "outputs": [],
   "source": []
  }
 ],
 "metadata": {
  "kernelspec": {
   "display_name": "base",
   "language": "python",
   "name": "python3"
  },
  "language_info": {
   "codemirror_mode": {
    "name": "ipython",
    "version": 3
   },
   "file_extension": ".py",
   "mimetype": "text/x-python",
   "name": "python",
   "nbconvert_exporter": "python",
   "pygments_lexer": "ipython3",
   "version": "3.9.7"
  },
  "orig_nbformat": 4
 },
 "nbformat": 4,
 "nbformat_minor": 2
}
