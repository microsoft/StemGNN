{
 "cells": [
  {
   "cell_type": "code",
   "execution_count": 2,
   "id": "7bf02a4d",
   "metadata": {
    "ExecuteTime": {
     "start_time": "2023-04-16T16:05:34.100876Z",
     "end_time": "2023-04-16T16:05:36.506470Z"
    }
   },
   "outputs": [],
   "source": [
    "# importation\n",
    "import numpy as np\n",
    "import dataclasses\n",
    "from LSTM_GNN import DataLoader, LSTMoutput\n",
    "import tensorflow as tf\n",
    "from keras.models import Sequential\n",
    "from keras.layers import LSTM, Dense, Dropout\n",
    "import pandas as pd\n",
    "from nltk import FreqDist\n",
    "import matplotlib.pyplot as plt\n",
    "import warnings\n",
    "import os\n",
    "\n",
    "os.environ[\"TF_CPP_MIN_LOG_LEVEL\"] = \"3\"    # 想要禁言tf\n",
    "warnings.filterwarnings('ignore')    #同上\n",
    "pd.set_option('display.max_columns', None)    #看全列名"
   ]
  },
  {
   "cell_type": "code",
   "execution_count": 4,
   "id": "de19c0fc",
   "metadata": {
    "ExecuteTime": {
     "start_time": "2023-04-16T16:04:16.045962Z",
     "end_time": "2023-04-16T16:04:16.051805Z"
    }
   },
   "outputs": [],
   "source": [
    "# 创建类方便存储各项属性，主要用在寻找hub-spoke的对应关系\n",
    "class Airport:\n",
    "    def __init__(self, name, code, operation = 0):\n",
    "        self.name = name  # 随便的名字\n",
    "        self.code = code    # ！机场代码\n",
    "        self.operation = operation    # 航班数量\n",
    "    \n",
    "    def update_operation(self, operation):    # 更改航班数\n",
    "        self.operation = operation\n",
    "        return 0\n",
    "    \n",
    "    \n",
    "class Hub(Airport):\n",
    "    def __init__(self, name, code, operation, spokelist: list):\n",
    "        super(Hub, self).__init__(name, code, operation)  #继承\n",
    "        self.spokes = list(set(spokelist))  #避免重复，对象为object\n",
    "        self.spoke_codes = []\n",
    "        for spoke in self.spokes:    # 记录spoke的代码，对象为str\n",
    "            spoke.change_hub(self)\n",
    "            self.spoke_codes.append(spoke.code)\n",
    "    \n",
    "    def reset_spoke(self, spokelist: list):    #重设spoke\n",
    "        self.spokes = list(set(spokelist))\n",
    "        return 0\n",
    "    \n",
    "    def add_spoke(self, spokelist: list):    #添加spoke\n",
    "        for spoke in spokelist:\n",
    "            self.spokes.append(spoke)\n",
    "            self.spoke_codes.append(spoke.code)\n",
    "        self.spokes = list(set(self.spokes))\n",
    "        self.spoke_codes = list(set(self.spoke_codes))\n",
    "        return 0\n",
    "        \n",
    "class Spoke(Airport):\n",
    "    def __init__(self, name, code, operation, hub: Hub):\n",
    "        super(Spoke, self).__init__(name, code, operation)\n",
    "        self.hub = hub\n",
    "        hub.add_spoke([self])\n",
    "        \n",
    "    def change_hub(self,hub: Hub):\n",
    "        self.hub = hub\n",
    "        return 0\n",
    "        "
   ]
  },
  {
   "cell_type": "code",
   "execution_count": 35,
   "id": "c22d3df1",
   "metadata": {},
   "outputs": [],
   "source": [
    "#sfo = Hub('sanfran','SFO',20,[])\n",
    "#oak = Spoke('oakland','OAK',5,sfo)\n",
    "#lax = Spoke('losang','LAX',15,sfo)"
   ]
  },
  {
   "cell_type": "code",
   "execution_count": null,
   "id": "fbd620f8",
   "metadata": {},
   "outputs": [],
   "source": []
  },
  {
   "cell_type": "code",
   "execution_count": 3,
   "id": "651b4bbc",
   "metadata": {
    "ExecuteTime": {
     "start_time": "2023-04-16T16:05:42.573803Z",
     "end_time": "2023-04-16T16:05:42.641634Z"
    }
   },
   "outputs": [],
   "source": [
    "df = pd.read_csv('/Users/wilsonwang/Documents/PycharmProjects/pythonProject/CE290/data/jan2020.csv', skiprows=1, nrows=79373)    #以一月的数据确认对应关系"
   ]
  },
  {
   "cell_type": "code",
   "execution_count": 5,
   "id": "0575dd65",
   "metadata": {
    "ExecuteTime": {
     "start_time": "2023-04-16T16:15:54.666415Z",
     "end_time": "2023-04-16T16:15:54.681179Z"
    }
   },
   "outputs": [],
   "source": [
    "#目标：SLC\n",
    "dep_slc = df[df['Departure']=='SLC'][['Arrival','Flight\\nCount']]  #SLC 出发的\n",
    "depdict = {}\n",
    "for key in set(dep_slc['Arrival']):    # 每个目的地作为key\n",
    "    depdict[key] = np.sum(dep_slc[dep_slc['Arrival']==key]['Flight\\nCount'])   # 目的地的航班数作为value\n",
    "dep_slc = pd.DataFrame.from_dict(depdict,orient='index',columns=['# of flights'])    # 将dict转为df方便画图\n",
    "dep_slc = dep_slc.reset_index().rename(columns={'index':'Facility'})\n",
    "\n",
    "arr_slc = df[df['Arrival']=='SLC'][['Departure','Flight\\nCount']]    #到达SLC的，下同\n",
    "arrdict = {}\n",
    "for key in set(arr_slc['Departure']):\n",
    "    arrdict[key] = np.sum(arr_slc[arr_slc['Departure']==key]['Flight\\nCount'])\n",
    "arr_slc = pd.DataFrame.from_dict(arrdict,orient='index',columns=['# of flights'])\n",
    "arr_slc = arr_slc.reset_index().rename(columns={'index':'Facility'})"
   ]
  },
  {
   "cell_type": "code",
   "execution_count": 5,
   "id": "17287ed2",
   "metadata": {
    "scrolled": false
   },
   "outputs": [
    {
     "data": {
      "text/plain": [
       "(array([18.,  6., 10.,  5.,  2.,  2.,  3.,  4.,  1.,  1.,  2.,  2.,  0.,\n",
       "         0.,  0.,  0.,  1.,  1.,  0.,  1.]),\n",
       " array([  1.  ,  31.45,  61.9 ,  92.35, 122.8 , 153.25, 183.7 , 214.15,\n",
       "        244.6 , 275.05, 305.5 , 335.95, 366.4 , 396.85, 427.3 , 457.75,\n",
       "        488.2 , 518.65, 549.1 , 579.55, 610.  ]),\n",
       " <BarContainer object of 20 artists>)"
      ]
     },
     "execution_count": 5,
     "metadata": {},
     "output_type": "execute_result"
    },
    {
     "data": {
      "image/png": "[encoded data removed]",
      "text/plain": [
       "<Figure size 640x480 with 1 Axes>"
      ]
     },
     "metadata": {},
     "output_type": "display_data"
    }
   ],
   "source": [
    "plt.hist(arr_slc['# of flights'],bins=20)    # 画图以寻找筛选spoke的标准"
   ]
  },
  {
   "cell_type": "code",
   "execution_count": 6,
   "id": "8169b4b2",
   "metadata": {},
   "outputs": [
    {
     "data": {
      "text/html": [
       "<div>\n",
       "<style scoped>\n",
       "    .dataframe tbody tr th:only-of-type {\n",
       "        vertical-align: middle;\n",
       "    }\n",
       "\n",
       "    .dataframe tbody tr th {\n",
       "        vertical-align: top;\n",
       "    }\n",
       "\n",
       "    .dataframe thead th {\n",
       "        text-align: right;\n",
       "    }\n",
       "</style>\n",
       "<table border=\"1\" class=\"dataframe\">\n",
       "  <thead>\n",
       "    <tr style=\"text-align: right;\">\n",
       "      <th></th>\n",
       "      <th>Facility</th>\n",
       "      <th># of flights</th>\n",
       "    </tr>\n",
       "  </thead>\n",
       "  <tbody>\n",
       "    <tr>\n",
       "      <th>3</th>\n",
       "      <td>TUS</td>\n",
       "      <td>80</td>\n",
       "    </tr>\n",
       "    <tr>\n",
       "      <th>10</th>\n",
       "      <td>ABQ</td>\n",
       "      <td>89</td>\n",
       "    </tr>\n",
       "    <tr>\n",
       "      <th>14</th>\n",
       "      <td>AUS</td>\n",
       "      <td>95</td>\n",
       "    </tr>\n",
       "    <tr>\n",
       "      <th>21</th>\n",
       "      <td>FLL</td>\n",
       "      <td>66</td>\n",
       "    </tr>\n",
       "    <tr>\n",
       "      <th>25</th>\n",
       "      <td>ONT</td>\n",
       "      <td>86</td>\n",
       "    </tr>\n",
       "    <tr>\n",
       "      <th>30</th>\n",
       "      <td>BWI</td>\n",
       "      <td>62</td>\n",
       "    </tr>\n",
       "    <tr>\n",
       "      <th>31</th>\n",
       "      <td>MCO</td>\n",
       "      <td>107</td>\n",
       "    </tr>\n",
       "    <tr>\n",
       "      <th>41</th>\n",
       "      <td>EWR</td>\n",
       "      <td>118</td>\n",
       "    </tr>\n",
       "    <tr>\n",
       "      <th>45</th>\n",
       "      <td>PSP</td>\n",
       "      <td>95</td>\n",
       "    </tr>\n",
       "    <tr>\n",
       "      <th>52</th>\n",
       "      <td>SAT</td>\n",
       "      <td>63</td>\n",
       "    </tr>\n",
       "    <tr>\n",
       "      <th>55</th>\n",
       "      <td>MCI</td>\n",
       "      <td>79</td>\n",
       "    </tr>\n",
       "    <tr>\n",
       "      <th>58</th>\n",
       "      <td>BOS</td>\n",
       "      <td>82</td>\n",
       "    </tr>\n",
       "    <tr>\n",
       "      <th>59</th>\n",
       "      <td>DTW</td>\n",
       "      <td>119</td>\n",
       "    </tr>\n",
       "    <tr>\n",
       "      <th>60</th>\n",
       "      <td>STL</td>\n",
       "      <td>88</td>\n",
       "    </tr>\n",
       "  </tbody>\n",
       "</table>\n",
       "</div>"
      ],
      "text/plain": [
       "   Facility  # of flights\n",
       "3       TUS            80\n",
       "10      ABQ            89\n",
       "14      AUS            95\n",
       "21      FLL            66\n",
       "25      ONT            86\n",
       "30      BWI            62\n",
       "31      MCO           107\n",
       "41      EWR           118\n",
       "45      PSP            95\n",
       "52      SAT            63\n",
       "55      MCI            79\n",
       "58      BOS            82\n",
       "59      DTW           119\n",
       "60      STL            88"
      ]
     },
     "execution_count": 6,
     "metadata": {},
     "output_type": "execute_result"
    }
   ],
   "source": [
    "dep_slc[(dep_slc['# of flights']>=62) & (dep_slc['# of flights']<=123)]  # 以平均每天2-3班为标准选择spoke"
   ]
  },
  {
   "cell_type": "code",
   "execution_count": 7,
   "id": "8802de0b",
   "metadata": {},
   "outputs": [
    {
     "data": {
      "text/html": [
       "<div>\n",
       "<style scoped>\n",
       "    .dataframe tbody tr th:only-of-type {\n",
       "        vertical-align: middle;\n",
       "    }\n",
       "\n",
       "    .dataframe tbody tr th {\n",
       "        vertical-align: top;\n",
       "    }\n",
       "\n",
       "    .dataframe thead th {\n",
       "        text-align: right;\n",
       "    }\n",
       "</style>\n",
       "<table border=\"1\" class=\"dataframe\">\n",
       "  <thead>\n",
       "    <tr style=\"text-align: right;\">\n",
       "      <th></th>\n",
       "      <th>Facility</th>\n",
       "      <th># of flights</th>\n",
       "    </tr>\n",
       "  </thead>\n",
       "  <tbody>\n",
       "    <tr>\n",
       "      <th>3</th>\n",
       "      <td>TUS</td>\n",
       "      <td>81</td>\n",
       "    </tr>\n",
       "    <tr>\n",
       "      <th>9</th>\n",
       "      <td>ABQ</td>\n",
       "      <td>89</td>\n",
       "    </tr>\n",
       "    <tr>\n",
       "      <th>13</th>\n",
       "      <td>AUS</td>\n",
       "      <td>94</td>\n",
       "    </tr>\n",
       "    <tr>\n",
       "      <th>18</th>\n",
       "      <td>FLL</td>\n",
       "      <td>65</td>\n",
       "    </tr>\n",
       "    <tr>\n",
       "      <th>19</th>\n",
       "      <td>MDW</td>\n",
       "      <td>63</td>\n",
       "    </tr>\n",
       "    <tr>\n",
       "      <th>22</th>\n",
       "      <td>ONT</td>\n",
       "      <td>87</td>\n",
       "    </tr>\n",
       "    <tr>\n",
       "      <th>26</th>\n",
       "      <td>BWI</td>\n",
       "      <td>62</td>\n",
       "    </tr>\n",
       "    <tr>\n",
       "      <th>28</th>\n",
       "      <td>MCO</td>\n",
       "      <td>107</td>\n",
       "    </tr>\n",
       "    <tr>\n",
       "      <th>38</th>\n",
       "      <td>EWR</td>\n",
       "      <td>117</td>\n",
       "    </tr>\n",
       "    <tr>\n",
       "      <th>41</th>\n",
       "      <td>PSP</td>\n",
       "      <td>96</td>\n",
       "    </tr>\n",
       "    <tr>\n",
       "      <th>48</th>\n",
       "      <td>SAT</td>\n",
       "      <td>66</td>\n",
       "    </tr>\n",
       "    <tr>\n",
       "      <th>51</th>\n",
       "      <td>MCI</td>\n",
       "      <td>77</td>\n",
       "    </tr>\n",
       "    <tr>\n",
       "      <th>54</th>\n",
       "      <td>BOS</td>\n",
       "      <td>90</td>\n",
       "    </tr>\n",
       "    <tr>\n",
       "      <th>55</th>\n",
       "      <td>DTW</td>\n",
       "      <td>120</td>\n",
       "    </tr>\n",
       "    <tr>\n",
       "      <th>56</th>\n",
       "      <td>STL</td>\n",
       "      <td>89</td>\n",
       "    </tr>\n",
       "  </tbody>\n",
       "</table>\n",
       "</div>"
      ],
      "text/plain": [
       "   Facility  # of flights\n",
       "3       TUS            81\n",
       "9       ABQ            89\n",
       "13      AUS            94\n",
       "18      FLL            65\n",
       "19      MDW            63\n",
       "22      ONT            87\n",
       "26      BWI            62\n",
       "28      MCO           107\n",
       "38      EWR           117\n",
       "41      PSP            96\n",
       "48      SAT            66\n",
       "51      MCI            77\n",
       "54      BOS            90\n",
       "55      DTW           120\n",
       "56      STL            89"
      ]
     },
     "execution_count": 7,
     "metadata": {},
     "output_type": "execute_result"
    }
   ],
   "source": [
    "arr_slc[(arr_slc['# of flights']>=62) & (arr_slc['# of flights']<=123)]    # 到达SLC只比出发的多一个MDW，舍去MDW，以出发结果为准↑"
   ]
  },
  {
   "cell_type": "code",
   "execution_count": 8,
   "id": "371a099f",
   "metadata": {},
   "outputs": [],
   "source": [
    "#以某个日期在各个机场的各自总航班数作为self的属性批量建立Spoke对象与Hub对象\n",
    "select_date = '01/01/2020'\n",
    "oper_slc = np.sum(df[(df['Departure']=='SLC') & (df['Date']==select_date)]['Flight\\nCount']) + np.sum(df[(df['Arrival']=='SLC') & (df['Date']==select_date)]['Flight\\nCount'])\n",
    "slc = Hub('salt_lake','SLC',oper_slc,[])\n",
    "for spoke in dep_slc[(dep_slc['# of flights']>=62) & (dep_slc['# of flights']<=123)]['Facility']:\n",
    "    n_oper = np.sum(df[(df['Departure']==spoke) & (df['Date']==select_date)]['Flight\\nCount']) + np.sum(df[(df['Arrival']==spoke) & (df['Date']==select_date)]['Flight\\nCount'])\n",
    "    locals()[spoke.lower()] = Spoke('name of '+spoke,spoke,n_oper,slc)\n"
   ]
  },
  {
   "cell_type": "code",
   "execution_count": 9,
   "id": "c938ab72",
   "metadata": {
    "scrolled": true
   },
   "outputs": [
    {
     "name": "stdout",
     "output_type": "stream",
     "text": [
      "0 ABQ\n",
      "3 AUS\n",
      "7 BOS\n",
      "10 BWI\n",
      "19 DTW\n",
      "20 EWR\n",
      "21 FLL\n",
      "36 MCI\n",
      "37 MCO\n",
      "48 ONT\n",
      "56 PSP\n",
      "62 SAT\n",
      "71 STL\n",
      "75 TUS\n"
     ]
    }
   ],
   "source": [
    "# 建立hub，spoke们和77*121 matrix行的对应index\n",
    "hub_index = 68\n",
    "spoke_index = []\n",
    "for i in range(len(df['Departure'].unique())):\n",
    "    if df['Departure'].unique()[i] in slc.spoke_codes:\n",
    "        print(i,df['Departure'].unique()[i])\n",
    "        spoke_index.append(i)"
   ]
  },
  {
   "cell_type": "code",
   "execution_count": null,
   "id": "1133e2aa",
   "metadata": {},
   "outputs": [],
   "source": []
  },
  {
   "cell_type": "code",
   "execution_count": 9,
   "id": "cb87417c",
   "metadata": {
    "ExecuteTime": {
     "start_time": "2023-04-16T16:27:22.523245Z",
     "end_time": "2023-04-16T16:27:22.530183Z"
    }
   },
   "outputs": [],
   "source": [
    "old_input = pd.read_csv('save.csv')  # 原matrix"
   ]
  },
  {
   "cell_type": "code",
   "execution_count": 13,
   "id": "6186dd2d",
   "metadata": {},
   "outputs": [],
   "source": [
    "#以下是出问题的部分\n",
    "\n",
    "# model的一些设定值，参考LSTM_GNN_Example.ipynb\n",
    "start_day = 40\n",
    "n_training = 28+28*1\n",
    "n_test =7\n",
    "\n",
    "change_list = [0]*len(spoke_index)\n",
    "\n"
   ]
  },
  {
   "cell_type": "code",
   "execution_count": 14,
   "id": "3751abb7",
   "metadata": {},
   "outputs": [
    {
     "name": "stdout",
     "output_type": "stream",
     "text": [
      "Epoch 1/100\n",
      "WARNING:tensorflow:Model was constructed with shape (28, 21, 77) for input KerasTensor(type_spec=TensorSpec(shape=(28, 21, 77), dtype=tf.float32, name='lstm_input'), name='lstm_input', description=\"created by layer 'lstm_input'\"), but it was called on an input with incompatible shape (14, 21, 77).\n",
      "WARNING:tensorflow:Model was constructed with shape (28, 21, 77) for input KerasTensor(type_spec=TensorSpec(shape=(28, 21, 77), dtype=tf.float32, name='lstm_input'), name='lstm_input', description=\"created by layer 'lstm_input'\"), but it was called on an input with incompatible shape (14, 21, 77).\n",
      "2/2 [==============================] - 1s 54ms/step - loss: 1.0672\n",
      "Epoch 2/100\n",
      "2/2 [==============================] - 0s 52ms/step - loss: 0.9243\n",
      "Epoch 3/100\n",
      "2/2 [==============================] - 0s 54ms/step - loss: 0.7501\n",
      "Epoch 4/100\n",
      "2/2 [==============================] - 0s 55ms/step - loss: 0.6009\n",
      "Epoch 5/100\n",
      "2/2 [==============================] - 0s 49ms/step - loss: 0.4655\n",
      "Epoch 6/100\n",
      "2/2 [==============================] - 0s 54ms/step - loss: 0.3796\n",
      "Epoch 7/100\n",
      "2/2 [==============================] - 0s 52ms/step - loss: 0.3035\n",
      "Epoch 8/100\n",
      "2/2 [==============================] - 0s 47ms/step - loss: 0.2739\n",
      "Epoch 9/100\n",
      "2/2 [==============================] - 0s 47ms/step - loss: 0.2484\n",
      "Epoch 10/100\n",
      "2/2 [==============================] - 0s 56ms/step - loss: 0.2311\n",
      "Epoch 11/100\n",
      "2/2 [==============================] - 0s 52ms/step - loss: 0.2290\n",
      "Epoch 12/100\n",
      "2/2 [==============================] - 0s 54ms/step - loss: 0.2092\n",
      "Epoch 13/100\n",
      "2/2 [==============================] - 0s 64ms/step - loss: 0.2004\n",
      "Epoch 14/100\n",
      "2/2 [==============================] - 0s 57ms/step - loss: 0.1976\n",
      "Epoch 15/100\n",
      "2/2 [==============================] - 0s 58ms/step - loss: 0.1891\n",
      "Epoch 16/100\n",
      "2/2 [==============================] - 0s 58ms/step - loss: 0.1818\n",
      "Epoch 17/100\n",
      "2/2 [==============================] - 0s 57ms/step - loss: 0.1788\n",
      "Epoch 18/100\n",
      "2/2 [==============================] - 0s 54ms/step - loss: 0.1705\n",
      "Epoch 19/100\n",
      "2/2 [==============================] - 0s 48ms/step - loss: 0.1711\n",
      "Epoch 20/100\n",
      "2/2 [==============================] - 0s 57ms/step - loss: 0.1662\n",
      "Epoch 21/100\n",
      "2/2 [==============================] - 0s 55ms/step - loss: 0.1682\n",
      "Epoch 22/100\n",
      "2/2 [==============================] - 0s 51ms/step - loss: 0.1562\n",
      "Epoch 23/100\n",
      "2/2 [==============================] - 0s 55ms/step - loss: 0.1598\n",
      "Epoch 24/100\n",
      "2/2 [==============================] - 0s 47ms/step - loss: 0.1547\n",
      "Epoch 25/100\n",
      "2/2 [==============================] - 0s 56ms/step - loss: 0.1591\n",
      "Epoch 26/100\n",
      "2/2 [==============================] - 0s 56ms/step - loss: 0.1548\n",
      "Epoch 27/100\n",
      "2/2 [==============================] - 0s 64ms/step - loss: 0.1528\n",
      "Epoch 28/100\n",
      "2/2 [==============================] - 0s 55ms/step - loss: 0.1495\n",
      "Epoch 29/100\n",
      "2/2 [==============================] - 0s 58ms/step - loss: 0.1453\n",
      "Epoch 30/100\n",
      "2/2 [==============================] - 0s 53ms/step - loss: 0.1483\n",
      "Epoch 31/100\n",
      "2/2 [==============================] - 0s 51ms/step - loss: 0.1436\n",
      "Epoch 32/100\n",
      "2/2 [==============================] - 0s 48ms/step - loss: 0.1429\n",
      "Epoch 33/100\n",
      "2/2 [==============================] - 0s 52ms/step - loss: 0.1429\n",
      "Epoch 34/100\n",
      "2/2 [==============================] - 0s 55ms/step - loss: 0.1438\n",
      "Epoch 35/100\n",
      "2/2 [==============================] - 0s 55ms/step - loss: 0.1429\n",
      "Epoch 36/100\n",
      "2/2 [==============================] - 0s 55ms/step - loss: 0.1436\n",
      "Epoch 37/100\n",
      "2/2 [==============================] - 0s 63ms/step - loss: 0.1375\n",
      "Epoch 38/100\n",
      "2/2 [==============================] - 0s 59ms/step - loss: 0.1393\n",
      "Epoch 39/100\n",
      "2/2 [==============================] - 0s 51ms/step - loss: 0.1455\n",
      "Epoch 40/100\n",
      "2/2 [==============================] - 0s 53ms/step - loss: 0.1359\n",
      "Epoch 41/100\n",
      "2/2 [==============================] - 0s 47ms/step - loss: 0.1355\n",
      "Epoch 42/100\n",
      "2/2 [==============================] - 0s 50ms/step - loss: 0.1409\n",
      "Epoch 43/100\n",
      "2/2 [==============================] - 0s 57ms/step - loss: 0.1409\n",
      "Epoch 44/100\n",
      "2/2 [==============================] - 0s 56ms/step - loss: 0.1354\n",
      "Epoch 45/100\n",
      "2/2 [==============================] - 0s 58ms/step - loss: 0.1354\n",
      "Epoch 46/100\n",
      "2/2 [==============================] - 0s 52ms/step - loss: 0.1296\n",
      "Epoch 47/100\n",
      "2/2 [==============================] - 0s 48ms/step - loss: 0.1253\n",
      "Epoch 48/100\n",
      "2/2 [==============================] - 0s 52ms/step - loss: 0.1333\n",
      "Epoch 49/100\n",
      "2/2 [==============================] - 0s 57ms/step - loss: 0.1258\n",
      "Epoch 50/100\n",
      "2/2 [==============================] - 0s 62ms/step - loss: 0.1230\n",
      "Epoch 51/100\n",
      "2/2 [==============================] - 0s 51ms/step - loss: 0.1210\n",
      "Epoch 52/100\n",
      "2/2 [==============================] - 0s 54ms/step - loss: 0.1236\n",
      "Epoch 53/100\n",
      "2/2 [==============================] - 0s 51ms/step - loss: 0.1237\n",
      "Epoch 54/100\n",
      "2/2 [==============================] - 0s 49ms/step - loss: 0.1217\n",
      "Epoch 55/100\n",
      "2/2 [==============================] - 0s 48ms/step - loss: 0.1186\n",
      "Epoch 56/100\n",
      "2/2 [==============================] - 0s 51ms/step - loss: 0.1174\n",
      "Epoch 57/100\n",
      "2/2 [==============================] - 0s 54ms/step - loss: 0.1194\n",
      "Epoch 58/100\n",
      "2/2 [==============================] - 0s 56ms/step - loss: 0.1175\n",
      "Epoch 59/100\n",
      "2/2 [==============================] - 0s 47ms/step - loss: 0.1116\n",
      "Epoch 60/100\n",
      "2/2 [==============================] - 0s 54ms/step - loss: 0.1227\n",
      "Epoch 61/100\n",
      "2/2 [==============================] - 0s 59ms/step - loss: 0.1075\n",
      "Epoch 62/100\n",
      "2/2 [==============================] - 0s 66ms/step - loss: 0.1131\n",
      "Epoch 63/100\n",
      "2/2 [==============================] - 0s 57ms/step - loss: 0.1075\n",
      "Epoch 64/100\n",
      "2/2 [==============================] - 0s 48ms/step - loss: 0.1096\n",
      "Epoch 65/100\n",
      "2/2 [==============================] - 0s 44ms/step - loss: 0.1081\n",
      "Epoch 66/100\n",
      "2/2 [==============================] - 0s 55ms/step - loss: 0.1077\n",
      "Epoch 67/100\n",
      "2/2 [==============================] - 0s 52ms/step - loss: 0.1058\n",
      "Epoch 68/100\n",
      "2/2 [==============================] - 0s 50ms/step - loss: 0.1007\n",
      "Epoch 69/100\n",
      "2/2 [==============================] - 0s 51ms/step - loss: 0.1059\n",
      "Epoch 70/100\n",
      "2/2 [==============================] - 0s 57ms/step - loss: 0.0960\n",
      "Epoch 71/100\n",
      "2/2 [==============================] - 0s 51ms/step - loss: 0.0977\n",
      "Epoch 72/100\n",
      "2/2 [==============================] - 0s 53ms/step - loss: 0.0990\n",
      "Epoch 73/100\n",
      "2/2 [==============================] - 0s 56ms/step - loss: 0.0957\n",
      "Epoch 74/100\n",
      "2/2 [==============================] - 0s 60ms/step - loss: 0.0909\n",
      "Epoch 75/100\n",
      "2/2 [==============================] - 0s 55ms/step - loss: 0.0933\n",
      "Epoch 76/100\n",
      "2/2 [==============================] - 0s 56ms/step - loss: 0.0929\n",
      "Epoch 77/100\n",
      "2/2 [==============================] - 0s 55ms/step - loss: 0.0881\n",
      "Epoch 78/100\n",
      "2/2 [==============================] - 0s 51ms/step - loss: 0.0910\n",
      "Epoch 79/100\n",
      "2/2 [==============================] - 0s 52ms/step - loss: 0.0848\n",
      "Epoch 80/100\n",
      "2/2 [==============================] - 0s 48ms/step - loss: 0.0824\n",
      "Epoch 81/100\n",
      "2/2 [==============================] - 0s 46ms/step - loss: 0.0838\n",
      "Epoch 82/100\n",
      "2/2 [==============================] - 0s 45ms/step - loss: 0.0859\n",
      "Epoch 83/100\n",
      "2/2 [==============================] - 0s 52ms/step - loss: 0.0779\n",
      "Epoch 84/100\n",
      "2/2 [==============================] - 0s 55ms/step - loss: 0.0788\n",
      "Epoch 85/100\n",
      "2/2 [==============================] - 0s 57ms/step - loss: 0.0777\n",
      "Epoch 86/100\n",
      "2/2 [==============================] - 0s 56ms/step - loss: 0.0767\n",
      "Epoch 87/100\n",
      "2/2 [==============================] - 0s 46ms/step - loss: 0.0746\n",
      "Epoch 88/100\n",
      "2/2 [==============================] - 0s 47ms/step - loss: 0.0757\n",
      "Epoch 89/100\n",
      "2/2 [==============================] - 0s 54ms/step - loss: 0.0734\n",
      "Epoch 90/100\n",
      "2/2 [==============================] - 0s 48ms/step - loss: 0.0720\n",
      "Epoch 91/100\n",
      "2/2 [==============================] - 0s 47ms/step - loss: 0.0735\n",
      "Epoch 92/100\n",
      "2/2 [==============================] - 0s 56ms/step - loss: 0.0713\n",
      "Epoch 93/100\n",
      "2/2 [==============================] - 0s 49ms/step - loss: 0.0694\n",
      "Epoch 94/100\n",
      "2/2 [==============================] - 0s 46ms/step - loss: 0.0802\n",
      "Epoch 95/100\n",
      "2/2 [==============================] - 0s 49ms/step - loss: 0.0697\n",
      "Epoch 96/100\n"
     ]
    },
    {
     "name": "stdout",
     "output_type": "stream",
     "text": [
      "2/2 [==============================] - 0s 46ms/step - loss: 0.0765\n",
      "Epoch 97/100\n",
      "2/2 [==============================] - 0s 53ms/step - loss: 0.0740\n",
      "Epoch 98/100\n",
      "2/2 [==============================] - 0s 55ms/step - loss: 0.0752\n",
      "Epoch 99/100\n",
      "2/2 [==============================] - 0s 53ms/step - loss: 0.0679\n",
      "Epoch 100/100\n",
      "2/2 [==============================] - 0s 53ms/step - loss: 0.0726\n"
     ]
    },
    {
     "data": {
      "text/plain": [
       "<keras.callbacks.History at 0x291c4a0d6a0>"
      ]
     },
     "execution_count": 14,
     "metadata": {},
     "output_type": "execute_result"
    }
   ],
   "source": [
    "#以原数据训练model\n",
    "loader = DataLoader('save.csv', start_day, n_training, 21, n_test)\n",
    "x_train, y_train, x_test = loader.train_test_split()\n",
    "\n",
    "model = Sequential()\n",
    "model.add(LSTM(loader.n_pred*77, batch_input_shape=(loader.n_batch,loader.n_timesteps,77)))\n",
    "model.add(Dense(loader.n_pred*77//2, activation='relu'))\n",
    "model.add(Dropout(0.2))\n",
    "model.add(Dense(loader.n_pred*77, activation='linear'))\n",
    "model.compile(loss='mean_squared_error', optimizer='adam')\n",
    "model.fit(x_train, y_train, epochs=100, batch_size=14)\n",
    "#训练完， 下面直接用model"
   ]
  },
  {
   "cell_type": "code",
   "execution_count": null,
   "outputs": [],
   "source": [
    "    def train_test_split(self):\n",
    "        self.train = self.x[:,self.start_day:self.start_day+self.n_training]\n",
    "        self.scale = StandardScaler()\n",
    "        self.train = self.scale.fit_transform(self.train.T).T\n",
    "        self.x_train = np.zeros(shape=(self.n_batch, self.n_timesteps, 77))\n",
    "        self.y_train = np.zeros(shape=(self.n_batch, 77*self.n_pred))\n",
    "        for i in range(self.n_batch):\n",
    "            self.x_train[i,:,:] = self.train[:,i:i+self.n_timesteps].T\n",
    "            self.y_train[i,:] = self.train[:,i+self.n_timesteps:i+self.n_timesteps+self.n_pred].flatten()\n",
    "\n",
    "        # +1 is added here to resolve the issue that the state of LSTM is 0 for the first element\n",
    "        self.test = self.x[:,self.start_day+self.n_pred+1:]\n",
    "        self.test = self.scale.transform(self.test.T).T\n",
    "        self.x_test = np.zeros(shape=(self.n_batch, self.n_timesteps, 77))\n",
    "        for i in range(self.n_batch):\n",
    "            self.x_test[i,:,:] = self.test[:,i:i+self.n_timesteps].T\n",
    "        return tf.convert_to_tensor(self.x_train), tf.convert_to_tensor(self.y_train), tf.convert_to_tensor(self.x_test)\n"
   ],
   "metadata": {
    "collapsed": false
   }
  },
  {
   "cell_type": "code",
   "execution_count": 15,
   "id": "a7b4c1d2",
   "metadata": {},
   "outputs": [
    {
     "name": "stdout",
     "output_type": "stream",
     "text": [
      "add flight num:  1\n",
      "add to:  ABQ\n",
      "score:  12232.55563525004\n",
      "add to:  AUS\n",
      "score:  12232.55563525004\n",
      "add to:  BOS\n",
      "score:  12232.55563525004\n",
      "add to:  BWI\n",
      "score:  12232.55563525004\n",
      "add to:  DTW\n",
      "score:  12232.55563525004\n",
      "add to:  EWR\n",
      "score:  12232.55563525004\n",
      "add to:  FLL\n",
      "score:  12232.55563525004\n",
      "add to:  MCI\n",
      "score:  12232.55563525004\n",
      "add to:  MCO\n",
      "score:  12232.55563525004\n",
      "add to:  ONT\n",
      "score:  12232.55563525004\n",
      "add to:  PSP\n",
      "score:  12232.55563525004\n",
      "add to:  SAT\n",
      "score:  12232.55563525004\n",
      "add to:  STL\n",
      "score:  12232.55563525004\n",
      "add to:  TUS\n",
      "score:  12232.55563525004\n"
     ]
    }
   ],
   "source": [
    "max_flight = 2\n",
    "for add_flight in range(1,max_flight):  # 这个for目前没有作用，为了方便之后添加多个航班到不同机场做准备\n",
    "    print('add flight num: ',add_flight)\n",
    "    for i in range(len(spoke_index)):\n",
    "        change_list = [0]*len(spoke_index)    # tbd when max>2\n",
    "        change_list[i] = 1    # 分别在每个spoke上加一班，改这里可以在各个spoke上加n班\n",
    "        \n",
    "        #使用之前定义好的func\n",
    "        new_input = update_input(old_input, hub_index, spoke_index, start_day+n_training, n_test, change_list)\n",
    "        \n",
    "        #方便输入loader，先输出成和save.csv类似的csv\n",
    "        file_name = 'add_'+str(add_flight)+'_to_'+df['Departure'].unique()[spoke_index[i]]+'.csv'\n",
    "        new_input.to_csv(file_name,index=False,header=True)\n",
    "        \n",
    "        # 提取新的x_test\n",
    "        loader = DataLoader(file_name, start_day, n_training, 21, n_test)\n",
    "        x_train, y_train, x_test = loader.train_test_split()\n",
    "        \n",
    "        predicted = model.predict(x_test)\n",
    "        \n",
    "        score = 0  #存储最后7天整个网络的日平均总航班数\n",
    "        for j in range(77):\n",
    "            result = LSTMoutput(loader, j)\n",
    "            result.inverse_transform(predicted)\n",
    "            score = score + np.sum(result.predicted_transformed[-1-n_test:-1])    # 最后7天\n",
    "        score = score/n_test\n",
    "        print('add to: ', df['Departure'].unique()[spoke_index[i]])\n",
    "        print('score: ', score)\n",
    "\n",
    "# 输出结果不管怎么改change_list，得出的score都是一样的"
   ]
  },
  {
   "cell_type": "code",
   "execution_count": 6,
   "outputs": [
    {
     "data": {
      "text/plain": "   Facility  # of flights\n0       VNY            27\n1       RDU            30\n2       TUS            80\n3       PHL            40\n4       ONT            86\n..      ...           ...\n58      PVD             1\n59      PDX           239\n60      HPN             4\n61      IND            28\n62      IAH           203\n\n[63 rows x 2 columns]",
      "text/html": "<div>\n<style scoped>\n    .dataframe tbody tr th:only-of-type {\n        vertical-align: middle;\n    }\n\n    .dataframe tbody tr th {\n        vertical-align: top;\n    }\n\n    .dataframe thead th {\n        text-align: right;\n    }\n</style>\n<table border=\"1\" class=\"dataframe\">\n  <thead>\n    <tr style=\"text-align: right;\">\n      <th></th>\n      <th>Facility</th>\n      <th># of flights</th>\n    </tr>\n  </thead>\n  <tbody>\n    <tr>\n      <th>0</th>\n      <td>VNY</td>\n      <td>27</td>\n    </tr>\n    <tr>\n      <th>1</th>\n      <td>RDU</td>\n      <td>30</td>\n    </tr>\n    <tr>\n      <th>2</th>\n      <td>TUS</td>\n      <td>80</td>\n    </tr>\n    <tr>\n      <th>3</th>\n      <td>PHL</td>\n      <td>40</td>\n    </tr>\n    <tr>\n      <th>4</th>\n      <td>ONT</td>\n      <td>86</td>\n    </tr>\n    <tr>\n      <th>...</th>\n      <td>...</td>\n      <td>...</td>\n    </tr>\n    <tr>\n      <th>58</th>\n      <td>PVD</td>\n      <td>1</td>\n    </tr>\n    <tr>\n      <th>59</th>\n      <td>PDX</td>\n      <td>239</td>\n    </tr>\n    <tr>\n      <th>60</th>\n      <td>HPN</td>\n      <td>4</td>\n    </tr>\n    <tr>\n      <th>61</th>\n      <td>IND</td>\n      <td>28</td>\n    </tr>\n    <tr>\n      <th>62</th>\n      <td>IAH</td>\n      <td>203</td>\n    </tr>\n  </tbody>\n</table>\n<p>63 rows × 2 columns</p>\n</div>"
     },
     "execution_count": 6,
     "metadata": {},
     "output_type": "execute_result"
    }
   ],
   "source": [
    "dep_slc"
   ],
   "metadata": {
    "collapsed": false,
    "ExecuteTime": {
     "start_time": "2023-04-16T16:16:05.800149Z",
     "end_time": "2023-04-16T16:16:05.805091Z"
    }
   }
  },
  {
   "cell_type": "code",
   "execution_count": 11,
   "outputs": [
    {
     "data": {
      "text/plain": "array(['ABQ', 'ANC', 'ATL', 'AUS', 'BDL', 'BHM', 'BNA', 'BOS', 'BUF',\n       'BUR', 'BWI', 'CLE', 'CLT', 'CVG', 'DAL', 'DAY', 'DCA', 'DEN',\n       'DFW', 'DTW', 'EWR', 'FLL', 'GYY', 'HNL', 'HOU', 'HPN', 'IAD',\n       'IAH', 'IND', 'ISP', 'JAX', 'JFK', 'LAS', 'LAX', 'LGA', 'LGB',\n       'MCI', 'MCO', 'MDW', 'MEM', 'MHT', 'MIA', 'MKE', 'MSP', 'MSY',\n       'OAK', 'OGG', 'OMA', 'ONT', 'ORD', 'OXR', 'PBI', 'PDX', 'PHL',\n       'PHX', 'PIT', 'PSP', 'PVD', 'RDU', 'RFD', 'RSW', 'SAN', 'SAT',\n       'SDF', 'SEA', 'SFO', 'SJC', 'SJU', 'SLC', 'SMF', 'SNA', 'STL',\n       'SWF', 'TEB', 'TPA', 'TUS', 'VNY'], dtype=object)"
     },
     "execution_count": 11,
     "metadata": {},
     "output_type": "execute_result"
    }
   ],
   "source": [
    "df['Departure'].unique()"
   ],
   "metadata": {
    "collapsed": false,
    "ExecuteTime": {
     "start_time": "2023-04-16T16:36:34.482630Z",
     "end_time": "2023-04-16T16:36:34.487860Z"
    }
   }
  },
  {
   "cell_type": "code",
   "execution_count": 10,
   "outputs": [
    {
     "data": {
      "text/plain": "         0       1       2       3       4       5       6       7       8  \\\n0    129.0   139.0   141.0   112.0   137.0   135.0   117.0   118.0   124.0   \n1     82.0    98.0    96.0   106.0   104.0    81.0    81.0    86.0   102.0   \n2   1110.0  1315.0  1303.0  1085.0  1358.0  1428.0  1374.0  1388.0  1433.0   \n3    324.0   351.0   354.0   297.0   342.0   348.0   333.0   338.0   362.0   \n4    118.0   141.0   139.0   119.0   140.0   142.0   129.0   137.0   139.0   \n..     ...     ...     ...     ...     ...     ...     ...     ...     ...   \n72    10.0    14.0    14.0    12.0    13.0    15.0    13.0    15.0    13.0   \n73    21.0    24.0    27.0    27.0    36.0    31.0    32.0    42.0    43.0   \n74   435.0   498.0   506.0   467.0   480.0   446.0   394.0   421.0   430.0   \n75   103.0   115.0   114.0    99.0   113.0   104.0   104.0   105.0   109.0   \n76    27.0    23.0    20.0    30.0    39.0    29.0    22.0    19.0    33.0   \n\n         9     10      11      12      13      14      15      16     17  \\\n0    115.0   72.0   114.0   123.0   115.0   115.0   124.0   125.0   77.0   \n1     89.0   99.0    97.0    81.0    79.0    90.0   103.0    89.0  100.0   \n2   1396.0  995.0  1319.0  1422.0  1376.0  1386.0  1420.0  1401.0  957.0   \n3    346.0  247.0   343.0   351.0   332.0   343.0   367.0   356.0  240.0   \n4    143.0  132.0   138.0   137.0   133.0   138.0   138.0   132.0  129.0   \n..     ...    ...     ...     ...     ...     ...     ...     ...    ...   \n72    13.0   11.0    13.0    15.0    13.0    14.0    15.0    17.0   10.0   \n73    40.0   24.0    37.0    46.0    43.0    48.0    54.0    50.0   23.0   \n74   425.0  404.0   457.0   441.0   399.0   424.0   432.0   431.0  402.0   \n75   100.0   84.0   110.0   107.0   101.0   104.0   107.0   106.0   90.0   \n76    14.0   19.0    35.0    20.0    17.0    21.0    21.0    36.0   19.0   \n\n        18      19      20      21      22      23     24      25      26  \\\n0    110.0   126.0   117.0   113.0   123.0   125.0   76.0   119.0   120.0   \n1    103.0    82.0    81.0    91.0    99.0    84.0   93.0    88.0    69.0   \n2   1095.0  1382.0  1377.0  1386.0  1419.0  1400.0  996.0  1310.0  1411.0   \n3    322.0   348.0   331.0   343.0   364.0   354.0  250.0   345.0   352.0   \n4    124.0   132.0   130.0   140.0   144.0   140.0  130.0   136.0   136.0   \n..     ...     ...     ...     ...     ...     ...    ...     ...     ...   \n72    12.0    13.0    12.0    13.0    15.0    12.0   11.0    15.0    14.0   \n73    26.0    46.0    30.0    48.0    65.0    38.0   26.0    41.0    55.0   \n74   435.0   442.0   401.0   416.0   432.0   436.0  407.0   464.0   438.0   \n75   100.0   106.0    98.0   102.0   106.0   108.0   89.0   110.0   103.0   \n76    34.0    21.0    23.0    21.0    27.0    24.0   16.0    35.0    33.0   \n\n        27      28      29      30     31      32      33      34      35  \\\n0    116.0   116.0   124.0   128.0   77.0   112.0   122.0   119.0   109.0   \n1     59.0    65.0    76.0    65.0   71.0    76.0    59.0    59.0    69.0   \n2   1367.0  1381.0  1406.0  1408.0  984.0  1150.0  1413.0  1382.0  1368.0   \n3    344.0   337.0   369.0   364.0  249.0   338.0   362.0   333.0   337.0   \n4    127.0   133.0   138.0   143.0  122.0   125.0   138.0   124.0   130.0   \n..     ...     ...     ...     ...    ...     ...     ...     ...     ...   \n72    15.0    12.0    12.0    14.0   10.0    13.0    13.0    13.0    13.0   \n73    52.0    43.0    56.0    34.0   26.0    24.0    53.0    60.0    47.0   \n74   404.0   421.0   432.0   443.0  409.0   451.0   446.0   401.0   412.0   \n75    99.0    97.0   111.0   105.0   86.0   103.0   103.0   103.0   100.0   \n76    22.0    33.0    23.0    24.0   20.0    21.0    23.0    29.0    28.0   \n\n        36      37      38      39      40      41      42      43      44  \\\n0    133.0   124.0    81.0   119.0   130.0   100.0   117.0   133.0   137.0   \n1     82.0    75.0    82.0    86.0    66.0    66.0    77.0    92.0    84.0   \n2   1401.0  1419.0  1011.0  1312.0  1413.0  1379.0  1384.0  1410.0  1401.0   \n3    357.0   366.0   250.0   351.0   350.0   327.0   335.0   366.0   368.0   \n4    132.0   144.0   124.0   132.0   135.0   127.0   135.0   143.0   151.0   \n..     ...     ...     ...     ...     ...     ...     ...     ...     ...   \n72    14.0    14.0    12.0    15.0    13.0    13.0    12.0    13.0    13.0   \n73    55.0    49.0    25.0    49.0    58.0    49.0    52.0    65.0    54.0   \n74   417.0   452.0   411.0   457.0   444.0   406.0   430.0   447.0   471.0   \n75   106.0   103.0    97.0   111.0   106.0   104.0   102.0   108.0   107.0   \n76    26.0    23.0    14.0    28.0    39.0    16.0    32.0    29.0    43.0   \n\n       45      46      47      48      49      50      51      52      53  \\\n0    92.0   111.0   137.0   134.0   129.0   140.0   134.0    95.0   122.0   \n1    91.0    90.0    79.0    68.0    91.0    93.0    89.0   106.0    88.0   \n2   977.0  1106.0  1381.0  1388.0  1393.0  1415.0  1400.0  1006.0  1307.0   \n3   270.0   333.0   369.0   357.0   352.0   368.0   366.0   267.0   361.0   \n4   137.0   140.0   147.0   150.0   150.0   150.0   148.0   141.0   146.0   \n..    ...     ...     ...     ...     ...     ...     ...     ...     ...   \n72   11.0    12.0    13.0    10.0    10.0    14.0    12.0    13.0    15.0   \n73   19.0    19.0    40.0    46.0    53.0    61.0    41.0    46.0    42.0   \n74  447.0   472.0   473.0   453.0   467.0   460.0   473.0   457.0   488.0   \n75  103.0   104.0   105.0   103.0   102.0   115.0   106.0    97.0   110.0   \n76   16.0    21.0    37.0    34.0    24.0    28.0    13.0    23.0    35.0   \n\n        54      55      56      57      58      59      60      61      62  \\\n0    135.0   130.0   131.0   134.0   134.0    92.0   119.0   141.0   138.0   \n1     79.0    75.0    86.0   103.0    91.0   103.0    98.0    85.0    74.0   \n2   1413.0  1393.0  1402.0  1422.0  1420.0  1009.0  1317.0  1421.0  1392.0   \n3    368.0   349.0   351.0   371.0   371.0   265.0   359.0   376.0   355.0   \n4    149.0   146.0   150.0   151.0   149.0   137.0   144.0   146.0   145.0   \n..     ...     ...     ...     ...     ...     ...     ...     ...     ...   \n72    14.0    12.0    14.0    13.0    14.0    10.0    13.0    12.0    11.0   \n73    43.0    38.0    47.0    64.0    52.0    21.0    65.0    65.0    61.0   \n74   470.0   446.0   465.0   453.0   463.0   449.0   489.0   460.0   452.0   \n75   107.0   106.0   104.0   112.0   106.0   104.0   113.0   107.0   103.0   \n76    19.0    20.0    23.0    29.0    20.0    17.0    43.0    27.0    24.0   \n\n        63      64      65      66      67      68      69      70      71  \\\n0    130.0   133.0   141.0   111.0   126.0   132.0   127.0   131.0   135.0   \n1     91.0   103.0    97.0   106.0   102.0    91.0    82.0   100.0   105.0   \n2   1396.0  1425.0  1423.0  1058.0  1323.0  1425.0  1404.0  1425.0  1498.0   \n3    355.0   381.0   389.0   305.0   374.0   385.0   365.0   380.0   379.0   \n4    152.0   148.0   148.0   132.0   140.0   140.0   143.0   143.0   139.0   \n..     ...     ...     ...     ...     ...     ...     ...     ...     ...   \n72    12.0    15.0    15.0    10.0    13.0    15.0    12.0    11.0    18.0   \n73    70.0    66.0    60.0    23.0    47.0    31.0    43.0    52.0    81.0   \n74   458.0   464.0   482.0   526.0   504.0   498.0   488.0   492.0   490.0   \n75    99.0   117.0   114.0   108.0   114.0   110.0   107.0   110.0   116.0   \n76    27.0    25.0    25.0    14.0    25.0    28.0    20.0    22.0    42.0   \n\n        72      73      74      75      76      77      78     79     80  \\\n0    140.0   107.0   125.0   132.0   126.0   123.0   120.0  113.0   89.0   \n1    101.0   109.0   105.0   107.0    79.0   110.0   111.0   99.0  103.0   \n2   1479.0  1198.0  1420.0  1482.0  1351.0  1347.0  1135.0  900.0  870.0   \n3    401.0   317.0   391.0   376.0   344.0   347.0   345.0  306.0  239.0   \n4    142.0   131.0   135.0   137.0   132.0   129.0   123.0  106.0  115.0   \n..     ...     ...     ...     ...     ...     ...     ...    ...    ...   \n72    15.0    13.0    17.0    13.0    13.0    13.0    12.0   13.0   13.0   \n73    55.0    40.0    52.0    42.0    35.0    20.0     9.0   11.0   11.0   \n74   514.0   552.0   520.0   494.0   474.0   470.0   438.0  420.0  477.0   \n75   111.0   109.0   113.0   113.0   110.0    98.0    90.0   92.0   82.0   \n76    23.0    18.0    32.0    22.0    16.0    18.0     6.0   19.0   12.0   \n\n       81     82     83     84     85     86     87     88     89     90  \\\n0   103.0  101.0   99.0   80.0   85.0   64.0   65.0   74.0   63.0   54.0   \n1   104.0   97.0   89.0   95.0  100.0   92.0   95.0   95.0   89.0   70.0   \n2   777.0  685.0  680.0  680.0  712.0  625.0  570.0  559.0  632.0  539.0   \n3   283.0  235.0  241.0  219.0  207.0  169.0  169.0  189.0  161.0  155.0   \n4   112.0   91.0   83.0   76.0   79.0   60.0   65.0   58.0   54.0   47.0   \n..    ...    ...    ...    ...    ...    ...    ...    ...    ...    ...   \n72   12.0    8.0    6.0   10.0    4.0   12.0   10.0    9.0   10.0    8.0   \n73    9.0    9.0    8.0   12.0   11.0   15.0   10.0    9.0    5.0    3.0   \n74  382.0  321.0  315.0  323.0  307.0  282.0  306.0  262.0  243.0  202.0   \n75   90.0   72.0   70.0   73.0   71.0   61.0   67.0   65.0   59.0   64.0   \n76   10.0    6.0    6.0    7.0    4.0    0.0    9.0    0.0    4.0    0.0   \n\n       91     92     93     94     95     96     97     98     99    100  \\\n0    65.0   68.0   61.0   45.0   58.0   55.0   48.0   51.0   57.0   48.0   \n1    84.0   82.0   75.0   82.0   83.0   70.0   69.0   83.0   82.0   70.0   \n2   537.0  498.0  483.0  415.0  438.0  481.0  434.0  442.0  439.0  443.0   \n3   157.0  152.0  162.0  122.0  144.0  136.0  106.0  109.0  124.0  116.0   \n4    60.0   51.0   53.0   58.0   61.0   59.0   61.0   65.0   69.0   68.0   \n..    ...    ...    ...    ...    ...    ...    ...    ...    ...    ...   \n72    8.0    5.0    8.0    7.0    6.0    8.0    7.0   10.0    3.0    3.0   \n73    4.0    9.0   11.0    5.0   11.0    3.0    9.0    5.0    5.0    0.0   \n74  214.0  194.0  219.0  245.0  226.0  206.0  187.0  175.0  185.0  185.0   \n75   68.0   56.0   46.0   45.0   49.0   46.0   50.0   47.0   57.0   47.0   \n76    3.0    0.0    5.0    0.0    7.0    3.0    8.0    8.0    7.0    8.0   \n\n      101    102    103    104    105    106    107    108    109    110  \\\n0    38.0   60.0   56.0   50.0   48.0   40.0   38.0   27.0   36.0   40.0   \n1    75.0   80.0   62.0   68.0   81.0   75.0   74.0   77.0   80.0   72.0   \n2   383.0  425.0  424.0  388.0  362.0  346.0  353.0  306.0  325.0  345.0   \n3    87.0   98.0  109.0  115.0  117.0  101.0  102.0   64.0   95.0  101.0   \n4    62.0   52.0   53.0   44.0   47.0   43.0   43.0   37.0   34.0   36.0   \n..    ...    ...    ...    ...    ...    ...    ...    ...    ...    ...   \n72    3.0    3.0    2.0    4.0    3.0    4.0    4.0    2.0    2.0    4.0   \n73    5.0    4.0    0.0    7.0    6.0    3.0    0.0    0.0    9.0    7.0   \n74  179.0  180.0  170.0  119.0  113.0  112.0  103.0  133.0  101.0  108.0   \n75   35.0   34.0   44.0   37.0   32.0   27.0   27.0   32.0   32.0   30.0   \n76    0.0    2.0    3.0    4.0    4.0    5.0    5.0    0.0    0.0    0.0   \n\n      111    112    113    114    115    116    117    118    119    120  \n0    43.0   33.0   31.0   43.0   33.0   35.0   39.0   41.0   37.0   44.0  \n1    67.0   82.0   76.0   73.0   82.0   78.0   79.0   72.0   80.0   87.0  \n2   317.0  319.0  327.0  333.0  294.0  331.0  324.0  322.0  342.0  321.0  \n3    93.0   94.0  106.0  100.0   59.0   85.0   87.0   87.0   96.0   97.0  \n4    39.0   39.0   42.0   45.0   41.0   34.0   48.0   42.0   45.0   49.0  \n..    ...    ...    ...    ...    ...    ...    ...    ...    ...    ...  \n72    2.0    4.0    2.0    4.0    4.0    3.0    4.0    2.0    6.0    3.0  \n73    5.0    5.0    9.0    6.0    7.0   10.0   10.0    7.0    9.0   14.0  \n74   98.0  101.0  110.0   88.0  122.0  108.0  107.0  109.0  108.0  109.0  \n75   29.0   34.0   29.0   44.0   29.0   32.0   31.0   28.0   30.0   31.0  \n76    8.0    3.0    8.0   11.0    5.0    6.0    6.0    0.0   11.0    9.0  \n\n[77 rows x 121 columns]",
      "text/html": "<div>\n<style scoped>\n    .dataframe tbody tr th:only-of-type {\n        vertical-align: middle;\n    }\n\n    .dataframe tbody tr th {\n        vertical-align: top;\n    }\n\n    .dataframe thead th {\n        text-align: right;\n    }\n</style>\n<table border=\"1\" class=\"dataframe\">\n  <thead>\n    <tr style=\"text-align: right;\">\n      <th></th>\n      <th>0</th>\n      <th>1</th>\n      <th>2</th>\n      <th>3</th>\n      <th>4</th>\n      <th>5</th>\n      <th>6</th>\n      <th>7</th>\n      <th>8</th>\n      <th>9</th>\n      <th>10</th>\n      <th>11</th>\n      <th>12</th>\n      <th>13</th>\n      <th>14</th>\n      <th>15</th>\n      <th>16</th>\n      <th>17</th>\n      <th>18</th>\n      <th>19</th>\n      <th>20</th>\n      <th>21</th>\n      <th>22</th>\n      <th>23</th>\n      <th>24</th>\n      <th>25</th>\n      <th>26</th>\n      <th>27</th>\n      <th>28</th>\n      <th>29</th>\n      <th>30</th>\n      <th>31</th>\n      <th>32</th>\n      <th>33</th>\n      <th>34</th>\n      <th>35</th>\n      <th>36</th>\n      <th>37</th>\n      <th>38</th>\n      <th>39</th>\n      <th>40</th>\n      <th>41</th>\n      <th>42</th>\n      <th>43</th>\n      <th>44</th>\n      <th>45</th>\n      <th>46</th>\n      <th>47</th>\n      <th>48</th>\n      <th>49</th>\n      <th>50</th>\n      <th>51</th>\n      <th>52</th>\n      <th>53</th>\n      <th>54</th>\n      <th>55</th>\n      <th>56</th>\n      <th>57</th>\n      <th>58</th>\n      <th>59</th>\n      <th>60</th>\n      <th>61</th>\n      <th>62</th>\n      <th>63</th>\n      <th>64</th>\n      <th>65</th>\n      <th>66</th>\n      <th>67</th>\n      <th>68</th>\n      <th>69</th>\n      <th>70</th>\n      <th>71</th>\n      <th>72</th>\n      <th>73</th>\n      <th>74</th>\n      <th>75</th>\n      <th>76</th>\n      <th>77</th>\n      <th>78</th>\n      <th>79</th>\n      <th>80</th>\n      <th>81</th>\n      <th>82</th>\n      <th>83</th>\n      <th>84</th>\n      <th>85</th>\n      <th>86</th>\n      <th>87</th>\n      <th>88</th>\n      <th>89</th>\n      <th>90</th>\n      <th>91</th>\n      <th>92</th>\n      <th>93</th>\n      <th>94</th>\n      <th>95</th>\n      <th>96</th>\n      <th>97</th>\n      <th>98</th>\n      <th>99</th>\n      <th>100</th>\n      <th>101</th>\n      <th>102</th>\n      <th>103</th>\n      <th>104</th>\n      <th>105</th>\n      <th>106</th>\n      <th>107</th>\n      <th>108</th>\n      <th>109</th>\n      <th>110</th>\n      <th>111</th>\n      <th>112</th>\n      <th>113</th>\n      <th>114</th>\n      <th>115</th>\n      <th>116</th>\n      <th>117</th>\n      <th>118</th>\n      <th>119</th>\n      <th>120</th>\n    </tr>\n  </thead>\n  <tbody>\n    <tr>\n      <th>0</th>\n      <td>129.0</td>\n      <td>139.0</td>\n      <td>141.0</td>\n      <td>112.0</td>\n      <td>137.0</td>\n      <td>135.0</td>\n      <td>117.0</td>\n      <td>118.0</td>\n      <td>124.0</td>\n      <td>115.0</td>\n      <td>72.0</td>\n      <td>114.0</td>\n      <td>123.0</td>\n      <td>115.0</td>\n      <td>115.0</td>\n      <td>124.0</td>\n      <td>125.0</td>\n      <td>77.0</td>\n      <td>110.0</td>\n      <td>126.0</td>\n      <td>117.0</td>\n      <td>113.0</td>\n      <td>123.0</td>\n      <td>125.0</td>\n      <td>76.0</td>\n      <td>119.0</td>\n      <td>120.0</td>\n      <td>116.0</td>\n      <td>116.0</td>\n      <td>124.0</td>\n      <td>128.0</td>\n      <td>77.0</td>\n      <td>112.0</td>\n      <td>122.0</td>\n      <td>119.0</td>\n      <td>109.0</td>\n      <td>133.0</td>\n      <td>124.0</td>\n      <td>81.0</td>\n      <td>119.0</td>\n      <td>130.0</td>\n      <td>100.0</td>\n      <td>117.0</td>\n      <td>133.0</td>\n      <td>137.0</td>\n      <td>92.0</td>\n      <td>111.0</td>\n      <td>137.0</td>\n      <td>134.0</td>\n      <td>129.0</td>\n      <td>140.0</td>\n      <td>134.0</td>\n      <td>95.0</td>\n      <td>122.0</td>\n      <td>135.0</td>\n      <td>130.0</td>\n      <td>131.0</td>\n      <td>134.0</td>\n      <td>134.0</td>\n      <td>92.0</td>\n      <td>119.0</td>\n      <td>141.0</td>\n      <td>138.0</td>\n      <td>130.0</td>\n      <td>133.0</td>\n      <td>141.0</td>\n      <td>111.0</td>\n      <td>126.0</td>\n      <td>132.0</td>\n      <td>127.0</td>\n      <td>131.0</td>\n      <td>135.0</td>\n      <td>140.0</td>\n      <td>107.0</td>\n      <td>125.0</td>\n      <td>132.0</td>\n      <td>126.0</td>\n      <td>123.0</td>\n      <td>120.0</td>\n      <td>113.0</td>\n      <td>89.0</td>\n      <td>103.0</td>\n      <td>101.0</td>\n      <td>99.0</td>\n      <td>80.0</td>\n      <td>85.0</td>\n      <td>64.0</td>\n      <td>65.0</td>\n      <td>74.0</td>\n      <td>63.0</td>\n      <td>54.0</td>\n      <td>65.0</td>\n      <td>68.0</td>\n      <td>61.0</td>\n      <td>45.0</td>\n      <td>58.0</td>\n      <td>55.0</td>\n      <td>48.0</td>\n      <td>51.0</td>\n      <td>57.0</td>\n      <td>48.0</td>\n      <td>38.0</td>\n      <td>60.0</td>\n      <td>56.0</td>\n      <td>50.0</td>\n      <td>48.0</td>\n      <td>40.0</td>\n      <td>38.0</td>\n      <td>27.0</td>\n      <td>36.0</td>\n      <td>40.0</td>\n      <td>43.0</td>\n      <td>33.0</td>\n      <td>31.0</td>\n      <td>43.0</td>\n      <td>33.0</td>\n      <td>35.0</td>\n      <td>39.0</td>\n      <td>41.0</td>\n      <td>37.0</td>\n      <td>44.0</td>\n    </tr>\n    <tr>\n      <th>1</th>\n      <td>82.0</td>\n      <td>98.0</td>\n      <td>96.0</td>\n      <td>106.0</td>\n      <td>104.0</td>\n      <td>81.0</td>\n      <td>81.0</td>\n      <td>86.0</td>\n      <td>102.0</td>\n      <td>89.0</td>\n      <td>99.0</td>\n      <td>97.0</td>\n      <td>81.0</td>\n      <td>79.0</td>\n      <td>90.0</td>\n      <td>103.0</td>\n      <td>89.0</td>\n      <td>100.0</td>\n      <td>103.0</td>\n      <td>82.0</td>\n      <td>81.0</td>\n      <td>91.0</td>\n      <td>99.0</td>\n      <td>84.0</td>\n      <td>93.0</td>\n      <td>88.0</td>\n      <td>69.0</td>\n      <td>59.0</td>\n      <td>65.0</td>\n      <td>76.0</td>\n      <td>65.0</td>\n      <td>71.0</td>\n      <td>76.0</td>\n      <td>59.0</td>\n      <td>59.0</td>\n      <td>69.0</td>\n      <td>82.0</td>\n      <td>75.0</td>\n      <td>82.0</td>\n      <td>86.0</td>\n      <td>66.0</td>\n      <td>66.0</td>\n      <td>77.0</td>\n      <td>92.0</td>\n      <td>84.0</td>\n      <td>91.0</td>\n      <td>90.0</td>\n      <td>79.0</td>\n      <td>68.0</td>\n      <td>91.0</td>\n      <td>93.0</td>\n      <td>89.0</td>\n      <td>106.0</td>\n      <td>88.0</td>\n      <td>79.0</td>\n      <td>75.0</td>\n      <td>86.0</td>\n      <td>103.0</td>\n      <td>91.0</td>\n      <td>103.0</td>\n      <td>98.0</td>\n      <td>85.0</td>\n      <td>74.0</td>\n      <td>91.0</td>\n      <td>103.0</td>\n      <td>97.0</td>\n      <td>106.0</td>\n      <td>102.0</td>\n      <td>91.0</td>\n      <td>82.0</td>\n      <td>100.0</td>\n      <td>105.0</td>\n      <td>101.0</td>\n      <td>109.0</td>\n      <td>105.0</td>\n      <td>107.0</td>\n      <td>79.0</td>\n      <td>110.0</td>\n      <td>111.0</td>\n      <td>99.0</td>\n      <td>103.0</td>\n      <td>104.0</td>\n      <td>97.0</td>\n      <td>89.0</td>\n      <td>95.0</td>\n      <td>100.0</td>\n      <td>92.0</td>\n      <td>95.0</td>\n      <td>95.0</td>\n      <td>89.0</td>\n      <td>70.0</td>\n      <td>84.0</td>\n      <td>82.0</td>\n      <td>75.0</td>\n      <td>82.0</td>\n      <td>83.0</td>\n      <td>70.0</td>\n      <td>69.0</td>\n      <td>83.0</td>\n      <td>82.0</td>\n      <td>70.0</td>\n      <td>75.0</td>\n      <td>80.0</td>\n      <td>62.0</td>\n      <td>68.0</td>\n      <td>81.0</td>\n      <td>75.0</td>\n      <td>74.0</td>\n      <td>77.0</td>\n      <td>80.0</td>\n      <td>72.0</td>\n      <td>67.0</td>\n      <td>82.0</td>\n      <td>76.0</td>\n      <td>73.0</td>\n      <td>82.0</td>\n      <td>78.0</td>\n      <td>79.0</td>\n      <td>72.0</td>\n      <td>80.0</td>\n      <td>87.0</td>\n    </tr>\n    <tr>\n      <th>2</th>\n      <td>1110.0</td>\n      <td>1315.0</td>\n      <td>1303.0</td>\n      <td>1085.0</td>\n      <td>1358.0</td>\n      <td>1428.0</td>\n      <td>1374.0</td>\n      <td>1388.0</td>\n      <td>1433.0</td>\n      <td>1396.0</td>\n      <td>995.0</td>\n      <td>1319.0</td>\n      <td>1422.0</td>\n      <td>1376.0</td>\n      <td>1386.0</td>\n      <td>1420.0</td>\n      <td>1401.0</td>\n      <td>957.0</td>\n      <td>1095.0</td>\n      <td>1382.0</td>\n      <td>1377.0</td>\n      <td>1386.0</td>\n      <td>1419.0</td>\n      <td>1400.0</td>\n      <td>996.0</td>\n      <td>1310.0</td>\n      <td>1411.0</td>\n      <td>1367.0</td>\n      <td>1381.0</td>\n      <td>1406.0</td>\n      <td>1408.0</td>\n      <td>984.0</td>\n      <td>1150.0</td>\n      <td>1413.0</td>\n      <td>1382.0</td>\n      <td>1368.0</td>\n      <td>1401.0</td>\n      <td>1419.0</td>\n      <td>1011.0</td>\n      <td>1312.0</td>\n      <td>1413.0</td>\n      <td>1379.0</td>\n      <td>1384.0</td>\n      <td>1410.0</td>\n      <td>1401.0</td>\n      <td>977.0</td>\n      <td>1106.0</td>\n      <td>1381.0</td>\n      <td>1388.0</td>\n      <td>1393.0</td>\n      <td>1415.0</td>\n      <td>1400.0</td>\n      <td>1006.0</td>\n      <td>1307.0</td>\n      <td>1413.0</td>\n      <td>1393.0</td>\n      <td>1402.0</td>\n      <td>1422.0</td>\n      <td>1420.0</td>\n      <td>1009.0</td>\n      <td>1317.0</td>\n      <td>1421.0</td>\n      <td>1392.0</td>\n      <td>1396.0</td>\n      <td>1425.0</td>\n      <td>1423.0</td>\n      <td>1058.0</td>\n      <td>1323.0</td>\n      <td>1425.0</td>\n      <td>1404.0</td>\n      <td>1425.0</td>\n      <td>1498.0</td>\n      <td>1479.0</td>\n      <td>1198.0</td>\n      <td>1420.0</td>\n      <td>1482.0</td>\n      <td>1351.0</td>\n      <td>1347.0</td>\n      <td>1135.0</td>\n      <td>900.0</td>\n      <td>870.0</td>\n      <td>777.0</td>\n      <td>685.0</td>\n      <td>680.0</td>\n      <td>680.0</td>\n      <td>712.0</td>\n      <td>625.0</td>\n      <td>570.0</td>\n      <td>559.0</td>\n      <td>632.0</td>\n      <td>539.0</td>\n      <td>537.0</td>\n      <td>498.0</td>\n      <td>483.0</td>\n      <td>415.0</td>\n      <td>438.0</td>\n      <td>481.0</td>\n      <td>434.0</td>\n      <td>442.0</td>\n      <td>439.0</td>\n      <td>443.0</td>\n      <td>383.0</td>\n      <td>425.0</td>\n      <td>424.0</td>\n      <td>388.0</td>\n      <td>362.0</td>\n      <td>346.0</td>\n      <td>353.0</td>\n      <td>306.0</td>\n      <td>325.0</td>\n      <td>345.0</td>\n      <td>317.0</td>\n      <td>319.0</td>\n      <td>327.0</td>\n      <td>333.0</td>\n      <td>294.0</td>\n      <td>331.0</td>\n      <td>324.0</td>\n      <td>322.0</td>\n      <td>342.0</td>\n      <td>321.0</td>\n    </tr>\n    <tr>\n      <th>3</th>\n      <td>324.0</td>\n      <td>351.0</td>\n      <td>354.0</td>\n      <td>297.0</td>\n      <td>342.0</td>\n      <td>348.0</td>\n      <td>333.0</td>\n      <td>338.0</td>\n      <td>362.0</td>\n      <td>346.0</td>\n      <td>247.0</td>\n      <td>343.0</td>\n      <td>351.0</td>\n      <td>332.0</td>\n      <td>343.0</td>\n      <td>367.0</td>\n      <td>356.0</td>\n      <td>240.0</td>\n      <td>322.0</td>\n      <td>348.0</td>\n      <td>331.0</td>\n      <td>343.0</td>\n      <td>364.0</td>\n      <td>354.0</td>\n      <td>250.0</td>\n      <td>345.0</td>\n      <td>352.0</td>\n      <td>344.0</td>\n      <td>337.0</td>\n      <td>369.0</td>\n      <td>364.0</td>\n      <td>249.0</td>\n      <td>338.0</td>\n      <td>362.0</td>\n      <td>333.0</td>\n      <td>337.0</td>\n      <td>357.0</td>\n      <td>366.0</td>\n      <td>250.0</td>\n      <td>351.0</td>\n      <td>350.0</td>\n      <td>327.0</td>\n      <td>335.0</td>\n      <td>366.0</td>\n      <td>368.0</td>\n      <td>270.0</td>\n      <td>333.0</td>\n      <td>369.0</td>\n      <td>357.0</td>\n      <td>352.0</td>\n      <td>368.0</td>\n      <td>366.0</td>\n      <td>267.0</td>\n      <td>361.0</td>\n      <td>368.0</td>\n      <td>349.0</td>\n      <td>351.0</td>\n      <td>371.0</td>\n      <td>371.0</td>\n      <td>265.0</td>\n      <td>359.0</td>\n      <td>376.0</td>\n      <td>355.0</td>\n      <td>355.0</td>\n      <td>381.0</td>\n      <td>389.0</td>\n      <td>305.0</td>\n      <td>374.0</td>\n      <td>385.0</td>\n      <td>365.0</td>\n      <td>380.0</td>\n      <td>379.0</td>\n      <td>401.0</td>\n      <td>317.0</td>\n      <td>391.0</td>\n      <td>376.0</td>\n      <td>344.0</td>\n      <td>347.0</td>\n      <td>345.0</td>\n      <td>306.0</td>\n      <td>239.0</td>\n      <td>283.0</td>\n      <td>235.0</td>\n      <td>241.0</td>\n      <td>219.0</td>\n      <td>207.0</td>\n      <td>169.0</td>\n      <td>169.0</td>\n      <td>189.0</td>\n      <td>161.0</td>\n      <td>155.0</td>\n      <td>157.0</td>\n      <td>152.0</td>\n      <td>162.0</td>\n      <td>122.0</td>\n      <td>144.0</td>\n      <td>136.0</td>\n      <td>106.0</td>\n      <td>109.0</td>\n      <td>124.0</td>\n      <td>116.0</td>\n      <td>87.0</td>\n      <td>98.0</td>\n      <td>109.0</td>\n      <td>115.0</td>\n      <td>117.0</td>\n      <td>101.0</td>\n      <td>102.0</td>\n      <td>64.0</td>\n      <td>95.0</td>\n      <td>101.0</td>\n      <td>93.0</td>\n      <td>94.0</td>\n      <td>106.0</td>\n      <td>100.0</td>\n      <td>59.0</td>\n      <td>85.0</td>\n      <td>87.0</td>\n      <td>87.0</td>\n      <td>96.0</td>\n      <td>97.0</td>\n    </tr>\n    <tr>\n      <th>4</th>\n      <td>118.0</td>\n      <td>141.0</td>\n      <td>139.0</td>\n      <td>119.0</td>\n      <td>140.0</td>\n      <td>142.0</td>\n      <td>129.0</td>\n      <td>137.0</td>\n      <td>139.0</td>\n      <td>143.0</td>\n      <td>132.0</td>\n      <td>138.0</td>\n      <td>137.0</td>\n      <td>133.0</td>\n      <td>138.0</td>\n      <td>138.0</td>\n      <td>132.0</td>\n      <td>129.0</td>\n      <td>124.0</td>\n      <td>132.0</td>\n      <td>130.0</td>\n      <td>140.0</td>\n      <td>144.0</td>\n      <td>140.0</td>\n      <td>130.0</td>\n      <td>136.0</td>\n      <td>136.0</td>\n      <td>127.0</td>\n      <td>133.0</td>\n      <td>138.0</td>\n      <td>143.0</td>\n      <td>122.0</td>\n      <td>125.0</td>\n      <td>138.0</td>\n      <td>124.0</td>\n      <td>130.0</td>\n      <td>132.0</td>\n      <td>144.0</td>\n      <td>124.0</td>\n      <td>132.0</td>\n      <td>135.0</td>\n      <td>127.0</td>\n      <td>135.0</td>\n      <td>143.0</td>\n      <td>151.0</td>\n      <td>137.0</td>\n      <td>140.0</td>\n      <td>147.0</td>\n      <td>150.0</td>\n      <td>150.0</td>\n      <td>150.0</td>\n      <td>148.0</td>\n      <td>141.0</td>\n      <td>146.0</td>\n      <td>149.0</td>\n      <td>146.0</td>\n      <td>150.0</td>\n      <td>151.0</td>\n      <td>149.0</td>\n      <td>137.0</td>\n      <td>144.0</td>\n      <td>146.0</td>\n      <td>145.0</td>\n      <td>152.0</td>\n      <td>148.0</td>\n      <td>148.0</td>\n      <td>132.0</td>\n      <td>140.0</td>\n      <td>140.0</td>\n      <td>143.0</td>\n      <td>143.0</td>\n      <td>139.0</td>\n      <td>142.0</td>\n      <td>131.0</td>\n      <td>135.0</td>\n      <td>137.0</td>\n      <td>132.0</td>\n      <td>129.0</td>\n      <td>123.0</td>\n      <td>106.0</td>\n      <td>115.0</td>\n      <td>112.0</td>\n      <td>91.0</td>\n      <td>83.0</td>\n      <td>76.0</td>\n      <td>79.0</td>\n      <td>60.0</td>\n      <td>65.0</td>\n      <td>58.0</td>\n      <td>54.0</td>\n      <td>47.0</td>\n      <td>60.0</td>\n      <td>51.0</td>\n      <td>53.0</td>\n      <td>58.0</td>\n      <td>61.0</td>\n      <td>59.0</td>\n      <td>61.0</td>\n      <td>65.0</td>\n      <td>69.0</td>\n      <td>68.0</td>\n      <td>62.0</td>\n      <td>52.0</td>\n      <td>53.0</td>\n      <td>44.0</td>\n      <td>47.0</td>\n      <td>43.0</td>\n      <td>43.0</td>\n      <td>37.0</td>\n      <td>34.0</td>\n      <td>36.0</td>\n      <td>39.0</td>\n      <td>39.0</td>\n      <td>42.0</td>\n      <td>45.0</td>\n      <td>41.0</td>\n      <td>34.0</td>\n      <td>48.0</td>\n      <td>42.0</td>\n      <td>45.0</td>\n      <td>49.0</td>\n    </tr>\n    <tr>\n      <th>...</th>\n      <td>...</td>\n      <td>...</td>\n      <td>...</td>\n      <td>...</td>\n      <td>...</td>\n      <td>...</td>\n      <td>...</td>\n      <td>...</td>\n      <td>...</td>\n      <td>...</td>\n      <td>...</td>\n      <td>...</td>\n      <td>...</td>\n      <td>...</td>\n      <td>...</td>\n      <td>...</td>\n      <td>...</td>\n      <td>...</td>\n      <td>...</td>\n      <td>...</td>\n      <td>...</td>\n      <td>...</td>\n      <td>...</td>\n      <td>...</td>\n      <td>...</td>\n      <td>...</td>\n      <td>...</td>\n      <td>...</td>\n      <td>...</td>\n      <td>...</td>\n      <td>...</td>\n      <td>...</td>\n      <td>...</td>\n      <td>...</td>\n      <td>...</td>\n      <td>...</td>\n      <td>...</td>\n      <td>...</td>\n      <td>...</td>\n      <td>...</td>\n      <td>...</td>\n      <td>...</td>\n      <td>...</td>\n      <td>...</td>\n      <td>...</td>\n      <td>...</td>\n      <td>...</td>\n      <td>...</td>\n      <td>...</td>\n      <td>...</td>\n      <td>...</td>\n      <td>...</td>\n      <td>...</td>\n      <td>...</td>\n      <td>...</td>\n      <td>...</td>\n      <td>...</td>\n      <td>...</td>\n      <td>...</td>\n      <td>...</td>\n      <td>...</td>\n      <td>...</td>\n      <td>...</td>\n      <td>...</td>\n      <td>...</td>\n      <td>...</td>\n      <td>...</td>\n      <td>...</td>\n      <td>...</td>\n      <td>...</td>\n      <td>...</td>\n      <td>...</td>\n      <td>...</td>\n      <td>...</td>\n      <td>...</td>\n      <td>...</td>\n      <td>...</td>\n      <td>...</td>\n      <td>...</td>\n      <td>...</td>\n      <td>...</td>\n      <td>...</td>\n      <td>...</td>\n      <td>...</td>\n      <td>...</td>\n      <td>...</td>\n      <td>...</td>\n      <td>...</td>\n      <td>...</td>\n      <td>...</td>\n      <td>...</td>\n      <td>...</td>\n      <td>...</td>\n      <td>...</td>\n      <td>...</td>\n      <td>...</td>\n      <td>...</td>\n      <td>...</td>\n      <td>...</td>\n      <td>...</td>\n      <td>...</td>\n      <td>...</td>\n      <td>...</td>\n      <td>...</td>\n      <td>...</td>\n      <td>...</td>\n      <td>...</td>\n      <td>...</td>\n      <td>...</td>\n      <td>...</td>\n      <td>...</td>\n      <td>...</td>\n      <td>...</td>\n      <td>...</td>\n      <td>...</td>\n      <td>...</td>\n      <td>...</td>\n      <td>...</td>\n      <td>...</td>\n      <td>...</td>\n      <td>...</td>\n    </tr>\n    <tr>\n      <th>72</th>\n      <td>10.0</td>\n      <td>14.0</td>\n      <td>14.0</td>\n      <td>12.0</td>\n      <td>13.0</td>\n      <td>15.0</td>\n      <td>13.0</td>\n      <td>15.0</td>\n      <td>13.0</td>\n      <td>13.0</td>\n      <td>11.0</td>\n      <td>13.0</td>\n      <td>15.0</td>\n      <td>13.0</td>\n      <td>14.0</td>\n      <td>15.0</td>\n      <td>17.0</td>\n      <td>10.0</td>\n      <td>12.0</td>\n      <td>13.0</td>\n      <td>12.0</td>\n      <td>13.0</td>\n      <td>15.0</td>\n      <td>12.0</td>\n      <td>11.0</td>\n      <td>15.0</td>\n      <td>14.0</td>\n      <td>15.0</td>\n      <td>12.0</td>\n      <td>12.0</td>\n      <td>14.0</td>\n      <td>10.0</td>\n      <td>13.0</td>\n      <td>13.0</td>\n      <td>13.0</td>\n      <td>13.0</td>\n      <td>14.0</td>\n      <td>14.0</td>\n      <td>12.0</td>\n      <td>15.0</td>\n      <td>13.0</td>\n      <td>13.0</td>\n      <td>12.0</td>\n      <td>13.0</td>\n      <td>13.0</td>\n      <td>11.0</td>\n      <td>12.0</td>\n      <td>13.0</td>\n      <td>10.0</td>\n      <td>10.0</td>\n      <td>14.0</td>\n      <td>12.0</td>\n      <td>13.0</td>\n      <td>15.0</td>\n      <td>14.0</td>\n      <td>12.0</td>\n      <td>14.0</td>\n      <td>13.0</td>\n      <td>14.0</td>\n      <td>10.0</td>\n      <td>13.0</td>\n      <td>12.0</td>\n      <td>11.0</td>\n      <td>12.0</td>\n      <td>15.0</td>\n      <td>15.0</td>\n      <td>10.0</td>\n      <td>13.0</td>\n      <td>15.0</td>\n      <td>12.0</td>\n      <td>11.0</td>\n      <td>18.0</td>\n      <td>15.0</td>\n      <td>13.0</td>\n      <td>17.0</td>\n      <td>13.0</td>\n      <td>13.0</td>\n      <td>13.0</td>\n      <td>12.0</td>\n      <td>13.0</td>\n      <td>13.0</td>\n      <td>12.0</td>\n      <td>8.0</td>\n      <td>6.0</td>\n      <td>10.0</td>\n      <td>4.0</td>\n      <td>12.0</td>\n      <td>10.0</td>\n      <td>9.0</td>\n      <td>10.0</td>\n      <td>8.0</td>\n      <td>8.0</td>\n      <td>5.0</td>\n      <td>8.0</td>\n      <td>7.0</td>\n      <td>6.0</td>\n      <td>8.0</td>\n      <td>7.0</td>\n      <td>10.0</td>\n      <td>3.0</td>\n      <td>3.0</td>\n      <td>3.0</td>\n      <td>3.0</td>\n      <td>2.0</td>\n      <td>4.0</td>\n      <td>3.0</td>\n      <td>4.0</td>\n      <td>4.0</td>\n      <td>2.0</td>\n      <td>2.0</td>\n      <td>4.0</td>\n      <td>2.0</td>\n      <td>4.0</td>\n      <td>2.0</td>\n      <td>4.0</td>\n      <td>4.0</td>\n      <td>3.0</td>\n      <td>4.0</td>\n      <td>2.0</td>\n      <td>6.0</td>\n      <td>3.0</td>\n    </tr>\n    <tr>\n      <th>73</th>\n      <td>21.0</td>\n      <td>24.0</td>\n      <td>27.0</td>\n      <td>27.0</td>\n      <td>36.0</td>\n      <td>31.0</td>\n      <td>32.0</td>\n      <td>42.0</td>\n      <td>43.0</td>\n      <td>40.0</td>\n      <td>24.0</td>\n      <td>37.0</td>\n      <td>46.0</td>\n      <td>43.0</td>\n      <td>48.0</td>\n      <td>54.0</td>\n      <td>50.0</td>\n      <td>23.0</td>\n      <td>26.0</td>\n      <td>46.0</td>\n      <td>30.0</td>\n      <td>48.0</td>\n      <td>65.0</td>\n      <td>38.0</td>\n      <td>26.0</td>\n      <td>41.0</td>\n      <td>55.0</td>\n      <td>52.0</td>\n      <td>43.0</td>\n      <td>56.0</td>\n      <td>34.0</td>\n      <td>26.0</td>\n      <td>24.0</td>\n      <td>53.0</td>\n      <td>60.0</td>\n      <td>47.0</td>\n      <td>55.0</td>\n      <td>49.0</td>\n      <td>25.0</td>\n      <td>49.0</td>\n      <td>58.0</td>\n      <td>49.0</td>\n      <td>52.0</td>\n      <td>65.0</td>\n      <td>54.0</td>\n      <td>19.0</td>\n      <td>19.0</td>\n      <td>40.0</td>\n      <td>46.0</td>\n      <td>53.0</td>\n      <td>61.0</td>\n      <td>41.0</td>\n      <td>46.0</td>\n      <td>42.0</td>\n      <td>43.0</td>\n      <td>38.0</td>\n      <td>47.0</td>\n      <td>64.0</td>\n      <td>52.0</td>\n      <td>21.0</td>\n      <td>65.0</td>\n      <td>65.0</td>\n      <td>61.0</td>\n      <td>70.0</td>\n      <td>66.0</td>\n      <td>60.0</td>\n      <td>23.0</td>\n      <td>47.0</td>\n      <td>31.0</td>\n      <td>43.0</td>\n      <td>52.0</td>\n      <td>81.0</td>\n      <td>55.0</td>\n      <td>40.0</td>\n      <td>52.0</td>\n      <td>42.0</td>\n      <td>35.0</td>\n      <td>20.0</td>\n      <td>9.0</td>\n      <td>11.0</td>\n      <td>11.0</td>\n      <td>9.0</td>\n      <td>9.0</td>\n      <td>8.0</td>\n      <td>12.0</td>\n      <td>11.0</td>\n      <td>15.0</td>\n      <td>10.0</td>\n      <td>9.0</td>\n      <td>5.0</td>\n      <td>3.0</td>\n      <td>4.0</td>\n      <td>9.0</td>\n      <td>11.0</td>\n      <td>5.0</td>\n      <td>11.0</td>\n      <td>3.0</td>\n      <td>9.0</td>\n      <td>5.0</td>\n      <td>5.0</td>\n      <td>0.0</td>\n      <td>5.0</td>\n      <td>4.0</td>\n      <td>0.0</td>\n      <td>7.0</td>\n      <td>6.0</td>\n      <td>3.0</td>\n      <td>0.0</td>\n      <td>0.0</td>\n      <td>9.0</td>\n      <td>7.0</td>\n      <td>5.0</td>\n      <td>5.0</td>\n      <td>9.0</td>\n      <td>6.0</td>\n      <td>7.0</td>\n      <td>10.0</td>\n      <td>10.0</td>\n      <td>7.0</td>\n      <td>9.0</td>\n      <td>14.0</td>\n    </tr>\n    <tr>\n      <th>74</th>\n      <td>435.0</td>\n      <td>498.0</td>\n      <td>506.0</td>\n      <td>467.0</td>\n      <td>480.0</td>\n      <td>446.0</td>\n      <td>394.0</td>\n      <td>421.0</td>\n      <td>430.0</td>\n      <td>425.0</td>\n      <td>404.0</td>\n      <td>457.0</td>\n      <td>441.0</td>\n      <td>399.0</td>\n      <td>424.0</td>\n      <td>432.0</td>\n      <td>431.0</td>\n      <td>402.0</td>\n      <td>435.0</td>\n      <td>442.0</td>\n      <td>401.0</td>\n      <td>416.0</td>\n      <td>432.0</td>\n      <td>436.0</td>\n      <td>407.0</td>\n      <td>464.0</td>\n      <td>438.0</td>\n      <td>404.0</td>\n      <td>421.0</td>\n      <td>432.0</td>\n      <td>443.0</td>\n      <td>409.0</td>\n      <td>451.0</td>\n      <td>446.0</td>\n      <td>401.0</td>\n      <td>412.0</td>\n      <td>417.0</td>\n      <td>452.0</td>\n      <td>411.0</td>\n      <td>457.0</td>\n      <td>444.0</td>\n      <td>406.0</td>\n      <td>430.0</td>\n      <td>447.0</td>\n      <td>471.0</td>\n      <td>447.0</td>\n      <td>472.0</td>\n      <td>473.0</td>\n      <td>453.0</td>\n      <td>467.0</td>\n      <td>460.0</td>\n      <td>473.0</td>\n      <td>457.0</td>\n      <td>488.0</td>\n      <td>470.0</td>\n      <td>446.0</td>\n      <td>465.0</td>\n      <td>453.0</td>\n      <td>463.0</td>\n      <td>449.0</td>\n      <td>489.0</td>\n      <td>460.0</td>\n      <td>452.0</td>\n      <td>458.0</td>\n      <td>464.0</td>\n      <td>482.0</td>\n      <td>526.0</td>\n      <td>504.0</td>\n      <td>498.0</td>\n      <td>488.0</td>\n      <td>492.0</td>\n      <td>490.0</td>\n      <td>514.0</td>\n      <td>552.0</td>\n      <td>520.0</td>\n      <td>494.0</td>\n      <td>474.0</td>\n      <td>470.0</td>\n      <td>438.0</td>\n      <td>420.0</td>\n      <td>477.0</td>\n      <td>382.0</td>\n      <td>321.0</td>\n      <td>315.0</td>\n      <td>323.0</td>\n      <td>307.0</td>\n      <td>282.0</td>\n      <td>306.0</td>\n      <td>262.0</td>\n      <td>243.0</td>\n      <td>202.0</td>\n      <td>214.0</td>\n      <td>194.0</td>\n      <td>219.0</td>\n      <td>245.0</td>\n      <td>226.0</td>\n      <td>206.0</td>\n      <td>187.0</td>\n      <td>175.0</td>\n      <td>185.0</td>\n      <td>185.0</td>\n      <td>179.0</td>\n      <td>180.0</td>\n      <td>170.0</td>\n      <td>119.0</td>\n      <td>113.0</td>\n      <td>112.0</td>\n      <td>103.0</td>\n      <td>133.0</td>\n      <td>101.0</td>\n      <td>108.0</td>\n      <td>98.0</td>\n      <td>101.0</td>\n      <td>110.0</td>\n      <td>88.0</td>\n      <td>122.0</td>\n      <td>108.0</td>\n      <td>107.0</td>\n      <td>109.0</td>\n      <td>108.0</td>\n      <td>109.0</td>\n    </tr>\n    <tr>\n      <th>75</th>\n      <td>103.0</td>\n      <td>115.0</td>\n      <td>114.0</td>\n      <td>99.0</td>\n      <td>113.0</td>\n      <td>104.0</td>\n      <td>104.0</td>\n      <td>105.0</td>\n      <td>109.0</td>\n      <td>100.0</td>\n      <td>84.0</td>\n      <td>110.0</td>\n      <td>107.0</td>\n      <td>101.0</td>\n      <td>104.0</td>\n      <td>107.0</td>\n      <td>106.0</td>\n      <td>90.0</td>\n      <td>100.0</td>\n      <td>106.0</td>\n      <td>98.0</td>\n      <td>102.0</td>\n      <td>106.0</td>\n      <td>108.0</td>\n      <td>89.0</td>\n      <td>110.0</td>\n      <td>103.0</td>\n      <td>99.0</td>\n      <td>97.0</td>\n      <td>111.0</td>\n      <td>105.0</td>\n      <td>86.0</td>\n      <td>103.0</td>\n      <td>103.0</td>\n      <td>103.0</td>\n      <td>100.0</td>\n      <td>106.0</td>\n      <td>103.0</td>\n      <td>97.0</td>\n      <td>111.0</td>\n      <td>106.0</td>\n      <td>104.0</td>\n      <td>102.0</td>\n      <td>108.0</td>\n      <td>107.0</td>\n      <td>103.0</td>\n      <td>104.0</td>\n      <td>105.0</td>\n      <td>103.0</td>\n      <td>102.0</td>\n      <td>115.0</td>\n      <td>106.0</td>\n      <td>97.0</td>\n      <td>110.0</td>\n      <td>107.0</td>\n      <td>106.0</td>\n      <td>104.0</td>\n      <td>112.0</td>\n      <td>106.0</td>\n      <td>104.0</td>\n      <td>113.0</td>\n      <td>107.0</td>\n      <td>103.0</td>\n      <td>99.0</td>\n      <td>117.0</td>\n      <td>114.0</td>\n      <td>108.0</td>\n      <td>114.0</td>\n      <td>110.0</td>\n      <td>107.0</td>\n      <td>110.0</td>\n      <td>116.0</td>\n      <td>111.0</td>\n      <td>109.0</td>\n      <td>113.0</td>\n      <td>113.0</td>\n      <td>110.0</td>\n      <td>98.0</td>\n      <td>90.0</td>\n      <td>92.0</td>\n      <td>82.0</td>\n      <td>90.0</td>\n      <td>72.0</td>\n      <td>70.0</td>\n      <td>73.0</td>\n      <td>71.0</td>\n      <td>61.0</td>\n      <td>67.0</td>\n      <td>65.0</td>\n      <td>59.0</td>\n      <td>64.0</td>\n      <td>68.0</td>\n      <td>56.0</td>\n      <td>46.0</td>\n      <td>45.0</td>\n      <td>49.0</td>\n      <td>46.0</td>\n      <td>50.0</td>\n      <td>47.0</td>\n      <td>57.0</td>\n      <td>47.0</td>\n      <td>35.0</td>\n      <td>34.0</td>\n      <td>44.0</td>\n      <td>37.0</td>\n      <td>32.0</td>\n      <td>27.0</td>\n      <td>27.0</td>\n      <td>32.0</td>\n      <td>32.0</td>\n      <td>30.0</td>\n      <td>29.0</td>\n      <td>34.0</td>\n      <td>29.0</td>\n      <td>44.0</td>\n      <td>29.0</td>\n      <td>32.0</td>\n      <td>31.0</td>\n      <td>28.0</td>\n      <td>30.0</td>\n      <td>31.0</td>\n    </tr>\n    <tr>\n      <th>76</th>\n      <td>27.0</td>\n      <td>23.0</td>\n      <td>20.0</td>\n      <td>30.0</td>\n      <td>39.0</td>\n      <td>29.0</td>\n      <td>22.0</td>\n      <td>19.0</td>\n      <td>33.0</td>\n      <td>14.0</td>\n      <td>19.0</td>\n      <td>35.0</td>\n      <td>20.0</td>\n      <td>17.0</td>\n      <td>21.0</td>\n      <td>21.0</td>\n      <td>36.0</td>\n      <td>19.0</td>\n      <td>34.0</td>\n      <td>21.0</td>\n      <td>23.0</td>\n      <td>21.0</td>\n      <td>27.0</td>\n      <td>24.0</td>\n      <td>16.0</td>\n      <td>35.0</td>\n      <td>33.0</td>\n      <td>22.0</td>\n      <td>33.0</td>\n      <td>23.0</td>\n      <td>24.0</td>\n      <td>20.0</td>\n      <td>21.0</td>\n      <td>23.0</td>\n      <td>29.0</td>\n      <td>28.0</td>\n      <td>26.0</td>\n      <td>23.0</td>\n      <td>14.0</td>\n      <td>28.0</td>\n      <td>39.0</td>\n      <td>16.0</td>\n      <td>32.0</td>\n      <td>29.0</td>\n      <td>43.0</td>\n      <td>16.0</td>\n      <td>21.0</td>\n      <td>37.0</td>\n      <td>34.0</td>\n      <td>24.0</td>\n      <td>28.0</td>\n      <td>13.0</td>\n      <td>23.0</td>\n      <td>35.0</td>\n      <td>19.0</td>\n      <td>20.0</td>\n      <td>23.0</td>\n      <td>29.0</td>\n      <td>20.0</td>\n      <td>17.0</td>\n      <td>43.0</td>\n      <td>27.0</td>\n      <td>24.0</td>\n      <td>27.0</td>\n      <td>25.0</td>\n      <td>25.0</td>\n      <td>14.0</td>\n      <td>25.0</td>\n      <td>28.0</td>\n      <td>20.0</td>\n      <td>22.0</td>\n      <td>42.0</td>\n      <td>23.0</td>\n      <td>18.0</td>\n      <td>32.0</td>\n      <td>22.0</td>\n      <td>16.0</td>\n      <td>18.0</td>\n      <td>6.0</td>\n      <td>19.0</td>\n      <td>12.0</td>\n      <td>10.0</td>\n      <td>6.0</td>\n      <td>6.0</td>\n      <td>7.0</td>\n      <td>4.0</td>\n      <td>0.0</td>\n      <td>9.0</td>\n      <td>0.0</td>\n      <td>4.0</td>\n      <td>0.0</td>\n      <td>3.0</td>\n      <td>0.0</td>\n      <td>5.0</td>\n      <td>0.0</td>\n      <td>7.0</td>\n      <td>3.0</td>\n      <td>8.0</td>\n      <td>8.0</td>\n      <td>7.0</td>\n      <td>8.0</td>\n      <td>0.0</td>\n      <td>2.0</td>\n      <td>3.0</td>\n      <td>4.0</td>\n      <td>4.0</td>\n      <td>5.0</td>\n      <td>5.0</td>\n      <td>0.0</td>\n      <td>0.0</td>\n      <td>0.0</td>\n      <td>8.0</td>\n      <td>3.0</td>\n      <td>8.0</td>\n      <td>11.0</td>\n      <td>5.0</td>\n      <td>6.0</td>\n      <td>6.0</td>\n      <td>0.0</td>\n      <td>11.0</td>\n      <td>9.0</td>\n    </tr>\n  </tbody>\n</table>\n<p>77 rows × 121 columns</p>\n</div>"
     },
     "execution_count": 10,
     "metadata": {},
     "output_type": "execute_result"
    }
   ],
   "source": [
    "old_input"
   ],
   "metadata": {
    "collapsed": false,
    "ExecuteTime": {
     "start_time": "2023-04-16T16:27:35.031321Z",
     "end_time": "2023-04-16T16:27:35.033576Z"
    }
   }
  },
  {
   "cell_type": "code",
   "execution_count": null,
   "outputs": [],
   "source": [],
   "metadata": {
    "collapsed": false
   }
  }
 ],
 "metadata": {
  "kernelspec": {
   "display_name": "Python 3 (ipykernel)",
   "language": "python",
   "name": "python3"
  },
  "language_info": {
   "codemirror_mode": {
    "name": "ipython",
    "version": 3
   },
   "file_extension": ".py",
   "mimetype": "text/x-python",
   "name": "python",
   "nbconvert_exporter": "python",
   "pygments_lexer": "ipython3",
   "version": "3.8.16"
  }
 },
 "nbformat": 4,
 "nbformat_minor": 5
}
